{
  "nbformat": 4,
  "nbformat_minor": 0,
  "metadata": {
    "colab": {
      "name": "ensemble",
      "provenance": [],
      "collapsed_sections": [],
      "authorship_tag": "ABX9TyN6qlN9WyGeqXcCUHWg3Foh",
      "include_colab_link": true
    },
    "kernelspec": {
      "name": "python3",
      "display_name": "Python 3"
    },
    "language_info": {
      "name": "python"
    },
    "accelerator": "GPU"
  },
  "cells": [
    {
      "cell_type": "markdown",
      "metadata": {
        "id": "view-in-github",
        "colab_type": "text"
      },
      "source": [
        "<a href=\"https://colab.research.google.com/github/hyunjju/board/blob/master/ensemble.ipynb\" target=\"_parent\"><img src=\"https://colab.research.google.com/assets/colab-badge.svg\" alt=\"Open In Colab\"/></a>"
      ]
    },
    {
      "cell_type": "code",
      "execution_count": 7,
      "metadata": {
        "colab": {
          "base_uri": "https://localhost:8080/",
          "height": 285
        },
        "id": "d9NwkTfhP2LB",
        "outputId": "a7ef4135-b104-42ff-dc64-cf14caed21b9"
      },
      "outputs": [
        {
          "output_type": "execute_result",
          "data": {
            "text/plain": [
              "[<matplotlib.lines.Line2D at 0x7f01bec4a390>]"
            ]
          },
          "metadata": {},
          "execution_count": 7
        },
        {
          "output_type": "display_data",
          "data": {
            "text/plain": [
              "<Figure size 432x288 with 1 Axes>"
            ],
            "image/png": "[encoded data removed]"
          },
          "metadata": {
            "needs_background": "light"
          }
        }
      ],
      "source": [
        "import matplotlib.pyplot as plt\n",
        "plt.plot([])"
      ]
    },
    {
      "cell_type": "code",
      "source": [
        "import os\n",
        "#현재 작업 디렉토리 \n",
        "os.getcwd()"
      ],
      "metadata": {
        "colab": {
          "base_uri": "https://localhost:8080/",
          "height": 35
        },
        "id": "eHIVyFELQEWu",
        "outputId": "5366ab24-8bf2-45d2-d528-28d7962b68d2"
      },
      "execution_count": 8,
      "outputs": [
        {
          "output_type": "execute_result",
          "data": {
            "text/plain": [
              "'/content'"
            ],
            "application/vnd.google.colaboratory.intrinsic+json": {
              "type": "string"
            }
          },
          "metadata": {},
          "execution_count": 8
        }
      ]
    },
    {
      "cell_type": "code",
      "source": [
        "#파일 업로드 화면 만들기\n",
        "from google.colab import files\n",
        "file_uploaded=files.upload()"
      ],
      "metadata": {
        "colab": {
          "resources": {
            "http://localhost:8080/nbextensions/google.colab/files.js": {
              "data": "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",
              "ok": true,
              "headers": [
                [
                  "content-type",
                  "application/javascript"
                ]
              ],
              "status": 200,
              "status_text": ""
            }
          },
          "base_uri": "https://localhost:8080/",
          "height": 403
        },
        "id": "73EqcfRqQrVg",
        "outputId": "35b86e4e-fbce-463c-90b3-7fcc5f79d869"
      },
      "execution_count": 7,
      "outputs": [
        {
          "data": {
            "text/html": [
              "\n",
              "     <input type=\"file\" id=\"files-22fc9334-44fd-40b2-b453-2823c49f9319\" name=\"files[]\" multiple disabled\n",
              "        style=\"border:none\" />\n",
              "     <output id=\"result-22fc9334-44fd-40b2-b453-2823c49f9319\">\n",
              "      Upload widget is only available when the cell has been executed in the\n",
              "      current browser session. Please rerun this cell to enable.\n",
              "      </output>\n",
              "      <script src=\"/nbextensions/google.colab/files.js\"></script> "
            ],
            "text/plain": [
              "<IPython.core.display.HTML object>"
            ]
          },
          "metadata": {},
          "output_type": "display_data"
        },
        {
          "output_type": "error",
          "ename": "KeyboardInterrupt",
          "evalue": "ignored",
          "traceback": [
            "\u001b[0;31m---------------------------------------------------------------------------\u001b[0m",
            "\u001b[0;31mKeyboardInterrupt\u001b[0m                         Traceback (most recent call last)",
            "\u001b[0;32m<ipython-input-7-84a307e8bd3d>\u001b[0m in \u001b[0;36m<module>\u001b[0;34m()\u001b[0m\n\u001b[1;32m      1\u001b[0m \u001b[0;31m#파일 업로드 화면 만들기\u001b[0m\u001b[0;34m\u001b[0m\u001b[0;34m\u001b[0m\u001b[0;34m\u001b[0m\u001b[0m\n\u001b[1;32m      2\u001b[0m \u001b[0;32mfrom\u001b[0m \u001b[0mgoogle\u001b[0m\u001b[0;34m.\u001b[0m\u001b[0mcolab\u001b[0m \u001b[0;32mimport\u001b[0m \u001b[0mfiles\u001b[0m\u001b[0;34m\u001b[0m\u001b[0;34m\u001b[0m\u001b[0m\n\u001b[0;32m----> 3\u001b[0;31m \u001b[0mfile_uploaded\u001b[0m\u001b[0;34m=\u001b[0m\u001b[0mfiles\u001b[0m\u001b[0;34m.\u001b[0m\u001b[0mupload\u001b[0m\u001b[0;34m(\u001b[0m\u001b[0;34m)\u001b[0m\u001b[0;34m\u001b[0m\u001b[0;34m\u001b[0m\u001b[0m\n\u001b[0m",
            "\u001b[0;32m/usr/local/lib/python3.7/dist-packages/google/colab/files.py\u001b[0m in \u001b[0;36mupload\u001b[0;34m()\u001b[0m\n\u001b[1;32m     44\u001b[0m   \"\"\"\n\u001b[1;32m     45\u001b[0m \u001b[0;34m\u001b[0m\u001b[0m\n\u001b[0;32m---> 46\u001b[0;31m   \u001b[0muploaded_files\u001b[0m \u001b[0;34m=\u001b[0m \u001b[0m_upload_files\u001b[0m\u001b[0;34m(\u001b[0m\u001b[0mmultiple\u001b[0m\u001b[0;34m=\u001b[0m\u001b[0;32mTrue\u001b[0m\u001b[0;34m)\u001b[0m\u001b[0;34m\u001b[0m\u001b[0;34m\u001b[0m\u001b[0m\n\u001b[0m\u001b[1;32m     47\u001b[0m   \u001b[0;31m# Mapping from original filename to filename as saved locally.\u001b[0m\u001b[0;34m\u001b[0m\u001b[0;34m\u001b[0m\u001b[0;34m\u001b[0m\u001b[0m\n\u001b[1;32m     48\u001b[0m   \u001b[0mlocal_filenames\u001b[0m \u001b[0;34m=\u001b[0m \u001b[0mdict\u001b[0m\u001b[0;34m(\u001b[0m\u001b[0;34m)\u001b[0m\u001b[0;34m\u001b[0m\u001b[0;34m\u001b[0m\u001b[0m\n",
            "\u001b[0;32m/usr/local/lib/python3.7/dist-packages/google/colab/files.py\u001b[0m in \u001b[0;36m_upload_files\u001b[0;34m(multiple)\u001b[0m\n\u001b[1;32m    121\u001b[0m   result = _output.eval_js(\n\u001b[1;32m    122\u001b[0m       'google.colab._files._uploadFiles(\"{input_id}\", \"{output_id}\")'.format(\n\u001b[0;32m--> 123\u001b[0;31m           input_id=input_id, output_id=output_id))\n\u001b[0m\u001b[1;32m    124\u001b[0m   \u001b[0mfiles\u001b[0m \u001b[0;34m=\u001b[0m \u001b[0m_collections\u001b[0m\u001b[0;34m.\u001b[0m\u001b[0mdefaultdict\u001b[0m\u001b[0;34m(\u001b[0m\u001b[0m_six\u001b[0m\u001b[0;34m.\u001b[0m\u001b[0mbinary_type\u001b[0m\u001b[0;34m)\u001b[0m\u001b[0;34m\u001b[0m\u001b[0;34m\u001b[0m\u001b[0m\n\u001b[1;32m    125\u001b[0m \u001b[0;34m\u001b[0m\u001b[0m\n",
            "\u001b[0;32m/usr/local/lib/python3.7/dist-packages/google/colab/output/_js.py\u001b[0m in \u001b[0;36meval_js\u001b[0;34m(script, ignore_result, timeout_sec)\u001b[0m\n\u001b[1;32m     38\u001b[0m   \u001b[0;32mif\u001b[0m \u001b[0mignore_result\u001b[0m\u001b[0;34m:\u001b[0m\u001b[0;34m\u001b[0m\u001b[0;34m\u001b[0m\u001b[0m\n\u001b[1;32m     39\u001b[0m     \u001b[0;32mreturn\u001b[0m\u001b[0;34m\u001b[0m\u001b[0;34m\u001b[0m\u001b[0m\n\u001b[0;32m---> 40\u001b[0;31m   \u001b[0;32mreturn\u001b[0m \u001b[0m_message\u001b[0m\u001b[0;34m.\u001b[0m\u001b[0mread_reply_from_input\u001b[0m\u001b[0;34m(\u001b[0m\u001b[0mrequest_id\u001b[0m\u001b[0;34m,\u001b[0m \u001b[0mtimeout_sec\u001b[0m\u001b[0;34m)\u001b[0m\u001b[0;34m\u001b[0m\u001b[0;34m\u001b[0m\u001b[0m\n\u001b[0m\u001b[1;32m     41\u001b[0m \u001b[0;34m\u001b[0m\u001b[0m\n\u001b[1;32m     42\u001b[0m \u001b[0;34m\u001b[0m\u001b[0m\n",
            "\u001b[0;32m/usr/local/lib/python3.7/dist-packages/google/colab/_message.py\u001b[0m in \u001b[0;36mread_reply_from_input\u001b[0;34m(message_id, timeout_sec)\u001b[0m\n\u001b[1;32m     99\u001b[0m     \u001b[0mreply\u001b[0m \u001b[0;34m=\u001b[0m \u001b[0m_read_next_input_message\u001b[0m\u001b[0;34m(\u001b[0m\u001b[0;34m)\u001b[0m\u001b[0;34m\u001b[0m\u001b[0;34m\u001b[0m\u001b[0m\n\u001b[1;32m    100\u001b[0m     \u001b[0;32mif\u001b[0m \u001b[0mreply\u001b[0m \u001b[0;34m==\u001b[0m \u001b[0m_NOT_READY\u001b[0m \u001b[0;32mor\u001b[0m \u001b[0;32mnot\u001b[0m \u001b[0misinstance\u001b[0m\u001b[0;34m(\u001b[0m\u001b[0mreply\u001b[0m\u001b[0;34m,\u001b[0m \u001b[0mdict\u001b[0m\u001b[0;34m)\u001b[0m\u001b[0;34m:\u001b[0m\u001b[0;34m\u001b[0m\u001b[0;34m\u001b[0m\u001b[0m\n\u001b[0;32m--> 101\u001b[0;31m       \u001b[0mtime\u001b[0m\u001b[0;34m.\u001b[0m\u001b[0msleep\u001b[0m\u001b[0;34m(\u001b[0m\u001b[0;36m0.025\u001b[0m\u001b[0;34m)\u001b[0m\u001b[0;34m\u001b[0m\u001b[0;34m\u001b[0m\u001b[0m\n\u001b[0m\u001b[1;32m    102\u001b[0m       \u001b[0;32mcontinue\u001b[0m\u001b[0;34m\u001b[0m\u001b[0;34m\u001b[0m\u001b[0m\n\u001b[1;32m    103\u001b[0m     if (reply.get('type') == 'colab_reply' and\n",
            "\u001b[0;31mKeyboardInterrupt\u001b[0m: "
          ]
        }
      ]
    },
    {
      "cell_type": "code",
      "source": [
        "#구글 드라이브를 content 디렉토리에 drive 디렉토리로 연결\n",
        "from google.colab import drive\n",
        "drive.mount('/content/drive')"
      ],
      "metadata": {
        "colab": {
          "base_uri": "https://localhost:8080/"
        },
        "id": "9K2Ne0vqRQ7f",
        "outputId": "acd92000-9af9-4879-c0ee-24faffc61146"
      },
      "execution_count": 1,
      "outputs": [
        {
          "output_type": "stream",
          "name": "stdout",
          "text": [
            "Mounted at /content/drive\n"
          ]
        }
      ]
    },
    {
      "cell_type": "code",
      "source": [
        "\n",
        "#패키지를 반 영구적으로 설치\n",
        "from google.colab import drive\n",
        "drive.mount('/content/drive')\n",
        "\n",
        "#심볼릭 링크 생성 \n",
        "import os, sys\n",
        "pg_path = '/content/packages'\n",
        "\n",
        "os.symlink('/content/drive/My Drive/Colab Notebooks', pg_path)\n",
        "\n",
        "sys.path.insert(0, pg_path)"
      ],
      "metadata": {
        "colab": {
          "base_uri": "https://localhost:8080/"
        },
        "id": "DTxs_r1BVNnI",
        "outputId": "d51c6c5d-01e1-43b1-954b-3d688cae6b17"
      },
      "execution_count": 2,
      "outputs": [
        {
          "output_type": "stream",
          "name": "stdout",
          "text": [
            "Drive already mounted at /content/drive; to attempt to forcibly remount, call drive.mount(\"/content/drive\", force_remount=True).\n"
          ]
        }
      ]
    },
    {
      "cell_type": "code",
      "source": [
        "!pip install --target=$pg_path selenium"
      ],
      "metadata": {
        "colab": {
          "base_uri": "https://localhost:8080/"
        },
        "id": "9B-cCixWWZOD",
        "outputId": "687923ef-626f-4a76-e938-4f55bbe90038"
      },
      "execution_count": 9,
      "outputs": [
        {
          "output_type": "stream",
          "name": "stdout",
          "text": [
            "Collecting selenium\n",
            "  Downloading selenium-4.1.3-py3-none-any.whl (968 kB)\n",
            "\u001b[K     |████████████████████████████████| 968 kB 5.4 MB/s \n",
            "\u001b[?25hCollecting trio~=0.17\n",
            "  Downloading trio-0.20.0-py3-none-any.whl (359 kB)\n",
            "\u001b[K     |████████████████████████████████| 359 kB 42.3 MB/s \n",
            "\u001b[?25hCollecting urllib3[secure,socks]~=1.26\n",
            "  Downloading urllib3-1.26.9-py2.py3-none-any.whl (138 kB)\n",
            "\u001b[K     |████████████████████████████████| 138 kB 43.8 MB/s \n",
            "\u001b[?25hCollecting trio-websocket~=0.9\n",
            "  Downloading trio_websocket-0.9.2-py3-none-any.whl (16 kB)\n",
            "Requirement already satisfied: idna in /usr/local/lib/python3.7/dist-packages (from trio~=0.17->selenium) (2.10)\n",
            "Collecting sniffio\n",
            "  Downloading sniffio-1.2.0-py3-none-any.whl (10 kB)\n",
            "Requirement already satisfied: attrs>=19.2.0 in /usr/local/lib/python3.7/dist-packages (from trio~=0.17->selenium) (21.4.0)\n",
            "Collecting async-generator>=1.9\n",
            "  Downloading async_generator-1.10-py3-none-any.whl (18 kB)\n",
            "Requirement already satisfied: sortedcontainers in /usr/local/lib/python3.7/dist-packages (from trio~=0.17->selenium) (2.4.0)\n",
            "Collecting outcome\n",
            "  Downloading outcome-1.1.0-py2.py3-none-any.whl (9.7 kB)\n",
            "Collecting wsproto>=0.14\n",
            "  Downloading wsproto-1.1.0-py3-none-any.whl (24 kB)\n",
            "Requirement already satisfied: PySocks!=1.5.7,<2.0,>=1.5.6 in /usr/local/lib/python3.7/dist-packages (from urllib3[secure,socks]~=1.26->selenium) (1.7.1)\n",
            "Collecting cryptography>=1.3.4\n",
            "  Downloading cryptography-36.0.2-cp36-abi3-manylinux_2_24_x86_64.whl (3.6 MB)\n",
            "\u001b[K     |████████████████████████████████| 3.6 MB 40.1 MB/s \n",
            "\u001b[?25hRequirement already satisfied: certifi in /usr/local/lib/python3.7/dist-packages (from urllib3[secure,socks]~=1.26->selenium) (2021.10.8)\n",
            "Collecting pyOpenSSL>=0.14\n",
            "  Downloading pyOpenSSL-22.0.0-py2.py3-none-any.whl (55 kB)\n",
            "\u001b[K     |████████████████████████████████| 55 kB 3.9 MB/s \n",
            "\u001b[?25hRequirement already satisfied: cffi>=1.12 in /usr/local/lib/python3.7/dist-packages (from cryptography>=1.3.4->urllib3[secure,socks]~=1.26->selenium) (1.15.0)\n",
            "Requirement already satisfied: pycparser in /usr/local/lib/python3.7/dist-packages (from cffi>=1.12->cryptography>=1.3.4->urllib3[secure,socks]~=1.26->selenium) (2.21)\n",
            "Collecting h11<1,>=0.9.0\n",
            "  Downloading h11-0.13.0-py3-none-any.whl (58 kB)\n",
            "\u001b[K     |████████████████████████████████| 58 kB 5.8 MB/s \n",
            "\u001b[?25hRequirement already satisfied: typing-extensions in /usr/local/lib/python3.7/dist-packages (from h11<1,>=0.9.0->wsproto>=0.14->trio-websocket~=0.9->selenium) (3.10.0.2)\n",
            "Installing collected packages: sniffio, outcome, h11, cryptography, async-generator, wsproto, urllib3, trio, pyOpenSSL, trio-websocket, selenium\n",
            "  Attempting uninstall: urllib3\n",
            "    Found existing installation: urllib3 1.24.3\n",
            "    Uninstalling urllib3-1.24.3:\n",
            "      Successfully uninstalled urllib3-1.24.3\n",
            "\u001b[31mERROR: pip's dependency resolver does not currently take into account all the packages that are installed. This behaviour is the source of the following dependency conflicts.\n",
            "requests 2.23.0 requires urllib3!=1.25.0,!=1.25.1,<1.26,>=1.21.1, but you have urllib3 1.26.9 which is incompatible.\n",
            "datascience 0.10.6 requires folium==0.2.1, but you have folium 0.8.3 which is incompatible.\u001b[0m\n",
            "Successfully installed async-generator-1.10 cryptography-36.0.2 h11-0.13.0 outcome-1.1.0 pyOpenSSL-22.0.0 selenium-4.1.3 sniffio-1.2.0 trio-0.20.0 trio-websocket-0.9.2 urllib3-1.26.9 wsproto-1.1.0\n"
          ]
        }
      ]
    },
    {
      "cell_type": "code",
      "source": [
        "import sys\n",
        "\n",
        "# Scikit_learn ≥0.20 필수\n",
        "import sklearn\n",
        "assert sklearn.__version__ >= \"0.20\"\n",
        "\n",
        "# 공통 모듈 임포트\n",
        "import numpy as np\n",
        "import pandas as pd\n",
        "\n",
        "import os\n",
        "import platform\n",
        "\n",
        "\n",
        "# 노트북 실행 결과를 동일하게 유지하기 위해\n",
        "np.random.seed(42)\n",
        "\n",
        "# 깔끔한 그래프 출력을 위해\n",
        "%matplotlib inline\n",
        "import matplotlib as mpl\n",
        "import matplotlib.pyplot as plt\n",
        "from matplotlib import font_manager, rc\n",
        "\n",
        "mpl.rc('axes', labelsize=14)\n",
        "mpl.rc('xtick', labelsize=12)\n",
        "mpl.rc('ytick', labelsize=12)\n",
        "\n",
        "# 그림을 저장할 위치\n",
        "PROJECT_ROOT_DIR = \".\"\n",
        "CHAPTER_ID = \"ensembles\"\n",
        "IMAGES_PATH = os.path.join(PROJECT_ROOT_DIR, \"images\", CHAPTER_ID)\n",
        "os.makedirs(IMAGES_PATH, exist_ok=True)\n",
        "\n",
        "#한글 설정\n",
        "#매킨토시의 경우\n",
        "if platform.system() == 'Darwin':\n",
        "    rc('font', family='AppleGothic')\n",
        "#윈도우의 경우\n",
        "elif platform.system() == 'Windows':\n",
        "    font_name = font_manager.FontProperties(fname=\"c:/Windows/Fonts/malgun.ttf\").get_name()\n",
        "    rc('font', family=font_name)\n",
        "    \n",
        "#음수 표현을 위한 설정\n",
        "mpl.rcParams['axes.unicode_minus'] = False\n",
        "\n",
        "def save_fig(fig_id, tight_layout=True, fig_extension=\"png\", resolution=300):\n",
        "    path = os.path.join(IMAGES_PATH, fig_id + \".\" + fig_extension)\n",
        "    print(\"그림 저장:\", fig_id)\n",
        "    if tight_layout:\n",
        "        plt.tight_layout()\n",
        "    plt.savefig(path, format=fig_extension, dpi=resolution)"
      ],
      "metadata": {
        "id": "c82cYIxwWzuL"
      },
      "execution_count": 3,
      "outputs": []
    },
    {
      "cell_type": "markdown",
      "source": [
        "## 투표 기반 분류기"
      ],
      "metadata": {
        "id": "cQT9ovzUcIBA"
      }
    },
    {
      "cell_type": "code",
      "source": [
        "#데이터 생성\n",
        "from sklearn.model_selection import train_test_split\n",
        "from sklearn.datasets import make_moons\n",
        "\n",
        "X, y = make_moons(n_samples=500, noise=0.30, random_state=42)\n",
        "X_train, X_test, y_train, y_test = train_test_split(X, y, random_state=42)"
      ],
      "metadata": {
        "id": "bx1wrfalcO1v"
      },
      "execution_count": 6,
      "outputs": []
    },
    {
      "cell_type": "markdown",
      "source": [
        "### 직접투표 방식"
      ],
      "metadata": {
        "id": "oL1PD0SLjta0"
      }
    },
    {
      "cell_type": "code",
      "source": [
        "#모델 생성 및 훈련 \n",
        "from sklearn.ensemble import RandomForestClassifier\n",
        "from sklearn.svm import SVC\n",
        "\n",
        "from sklearn.ensemble import RandomForestClassifier\n",
        "from sklearn.ensemble import VotingClassifier\n",
        "from sklearn.linear_model import LogisticRegression\n",
        "\n",
        "#로지스틱 회귀 모델 생성\n",
        "log_clf = LogisticRegression(solver=\"lbfgs\", random_state=42)\n",
        "\n",
        "#선형 svm 모델 생성\n",
        "svm_clf = SVC(gamma='scale', random_state=42)\n",
        "\n",
        "#랜덤 포레스트 모델 생성\n",
        "rnd_clf = RandomForestClassifier(n_estimators=100, random_state=42)\n",
        "\n",
        "#투표 기반 분류기\n",
        "voting_clf = VotingClassifier(\n",
        "    estimators = [('lr', log_clf), ('rf', rnd_clf), ('svc', svm_clf)],\n",
        "    voting='hard'\n",
        ")\n",
        "\n",
        "voting_clf.fit(X_train, y_train)"
      ],
      "metadata": {
        "colab": {
          "base_uri": "https://localhost:8080/"
        },
        "id": "lJL2cxvjdJU1",
        "outputId": "6d6cec1f-a50d-410b-ba8b-c50737cdb388"
      },
      "execution_count": 7,
      "outputs": [
        {
          "output_type": "execute_result",
          "data": {
            "text/plain": [
              "VotingClassifier(estimators=[('lr', LogisticRegression(random_state=42)),\n",
              "                             ('rf', RandomForestClassifier(random_state=42)),\n",
              "                             ('svc', SVC(random_state=42))])"
            ]
          },
          "metadata": {},
          "execution_count": 7
        }
      ]
    },
    {
      "cell_type": "code",
      "source": [
        "#평가 지표 확인\n",
        "from sklearn.metrics import accuracy_score\n",
        "\n",
        "for clf in(log_clf, svm_clf, rnd_clf, voting_clf):\n",
        "  clf.fit(X_train, y_train)\n",
        "  y_pred = clf.predict(X_test)\n",
        "  print(clf.__class__.__name__, accuracy_score(y_test, y_pred))"
      ],
      "metadata": {
        "colab": {
          "base_uri": "https://localhost:8080/"
        },
        "id": "K6CpdNmIfY3O",
        "outputId": "dfad3997-b349-42d7-9ee5-3b2e7137d7ca"
      },
      "execution_count": 8,
      "outputs": [
        {
          "output_type": "stream",
          "name": "stdout",
          "text": [
            "LogisticRegression 0.864\n",
            "SVC 0.896\n",
            "RandomForestClassifier 0.896\n",
            "VotingClassifier 0.912\n"
          ]
        }
      ]
    },
    {
      "cell_type": "markdown",
      "source": [
        "### 간접 회귀 방식"
      ],
      "metadata": {
        "id": "b3Obs9yvjxq8"
      }
    },
    {
      "cell_type": "code",
      "source": [
        "#로지스틱 회귀 모델 생성\n",
        "log_clf = LogisticRegression(solver=\"lbfgs\", random_state=42)\n",
        "\n",
        "#선형 svm 모델 생성\n",
        "svm_clf = SVC(gamma='scale', probability = True, random_state=42)\n",
        "\n",
        "#랜덤 포레스트 모델 생성\n",
        "rnd_clf = RandomForestClassifier(n_estimators=100, random_state=42)\n",
        "\n",
        "#투표 기반 분류기\n",
        "voting_clf = VotingClassifier(\n",
        "    estimators = [('lr', log_clf), ('rf', rnd_clf), ('svc', svm_clf)],\n",
        "    voting='soft'\n",
        ")\n",
        "\n",
        "for clf in(log_clf, svm_clf, rnd_clf, voting_clf):\n",
        "  clf.fit(X_train, y_train)\n",
        "  y_pred = clf.predict(X_test)\n",
        "  print(clf.__class__.__name__, accuracy_score(y_test, y_pred))"
      ],
      "metadata": {
        "colab": {
          "base_uri": "https://localhost:8080/"
        },
        "id": "s7J-hARGjp6W",
        "outputId": "2583e437-06fa-4c1c-a569-73d822e0c545"
      },
      "execution_count": 21,
      "outputs": [
        {
          "output_type": "stream",
          "name": "stdout",
          "text": [
            "LogisticRegression 0.864\n",
            "SVC 0.896\n",
            "RandomForestClassifier 0.896\n",
            "VotingClassifier 0.92\n"
          ]
        }
      ]
    },
    {
      "cell_type": "markdown",
      "source": [
        "## 배깅과 페이스팅\n",
        "### 하나의 모델 이용"
      ],
      "metadata": {
        "id": "_F7TUV8Qokdd"
      }
    },
    {
      "cell_type": "code",
      "source": [
        "from sklearn.tree import DecisionTreeClassifier\n",
        "\n",
        "tree_clf = DecisionTreeClassifier(random_state=42)\n",
        "tree_clf.fit(X_train, y_train)\n",
        "y_pred_tree = tree_clf.predict(X_test)\n",
        "\n",
        "print(accuracy_score(y_test, y_pred_tree))"
      ],
      "metadata": {
        "colab": {
          "base_uri": "https://localhost:8080/"
        },
        "id": "ytuvmVmrojSQ",
        "outputId": "2adb67ce-9c2b-4c6a-820f-bdb9df67ddb9"
      },
      "execution_count": 9,
      "outputs": [
        {
          "output_type": "stream",
          "name": "stdout",
          "text": [
            "0.856\n"
          ]
        }
      ]
    },
    {
      "cell_type": "markdown",
      "source": [
        "## 배깅 사용"
      ],
      "metadata": {
        "id": "mL3yDNrMpdgo"
      }
    },
    {
      "cell_type": "code",
      "source": [
        "from sklearn.ensemble import BaggingClassifier\n",
        "\n",
        "bag_clf = BaggingClassifier(DecisionTreeClassifier(), n_estimators=500,\n",
        "                            max_samples=100, bootstrap=True,\n",
        "                            random_state=42)\n",
        "\n",
        "bag_clf.fit(X_train, y_train)\n",
        "y_pred_tree = bag_clf.predict(X_test)\n",
        "\n",
        "print(accuracy_score(y_test, y_pred_tree))"
      ],
      "metadata": {
        "colab": {
          "base_uri": "https://localhost:8080/"
        },
        "id": "Pg8k6V2vpNP1",
        "outputId": "29b9937b-3bf5-402c-a252-ac5e07a0b821"
      },
      "execution_count": 10,
      "outputs": [
        {
          "output_type": "stream",
          "name": "stdout",
          "text": [
            "0.904\n"
          ]
        }
      ]
    },
    {
      "cell_type": "markdown",
      "source": [
        "### oob score 확인"
      ],
      "metadata": {
        "id": "FlXu_cpgsrgE"
      }
    },
    {
      "cell_type": "code",
      "source": [
        "bag_clf = BaggingClassifier(DecisionTreeClassifier(), n_estimators=500,\n",
        "                            max_samples=100, bootstrap=True,\n",
        "                            oob_score=True, random_state=42)\n",
        "\n",
        "bag_clf.fit(X_train, y_train)\n",
        "\n",
        "print(bag_clf.oob_score_)"
      ],
      "metadata": {
        "colab": {
          "base_uri": "https://localhost:8080/"
        },
        "id": "f6U5Clc3srTm",
        "outputId": "fcbcf3e7-4206-402f-e23a-c84bdcea3c24"
      },
      "execution_count": 26,
      "outputs": [
        {
          "output_type": "stream",
          "name": "stdout",
          "text": [
            "0.9253333333333333\n"
          ]
        }
      ]
    },
    {
      "cell_type": "code",
      "source": [
        "print(bag_clf.oob_decision_function_)"
      ],
      "metadata": {
        "id": "rQLZaBt7wTQB"
      },
      "execution_count": null,
      "outputs": []
    },
    {
      "cell_type": "markdown",
      "source": [
        "## Random Forest"
      ],
      "metadata": {
        "id": "bQ87oRKX1mG_"
      }
    },
    {
      "cell_type": "markdown",
      "source": [
        "### 배깅을 이용한 랜덤 포레스트"
      ],
      "metadata": {
        "id": "woNaiZtC1ved"
      }
    },
    {
      "cell_type": "code",
      "source": [
        "bag_clf = BaggingClassifier(DecisionTreeClassifier(max_features=\"sqrt\",\n",
        "                                                   max_leaf_nodes=16),\n",
        "                            n_estimators=500, random_state=42)\n",
        "bag_clf.fit(X_train, y_train)\n",
        "y_pred = bag_clf.predict(X_test)"
      ],
      "metadata": {
        "id": "hG9_m6Lr1lwF"
      },
      "execution_count": 28,
      "outputs": []
    },
    {
      "cell_type": "markdown",
      "source": [
        "## 랜덤 포레스를 이용 "
      ],
      "metadata": {
        "id": "yV20s4iu2c-W"
      }
    },
    {
      "cell_type": "code",
      "source": [
        "rnd_clf = RandomForestClassifier(max_leaf_nodes=16, n_estimators=500,\n",
        "                                 random_state=42)\n",
        "\n",
        "rnd_clf.fit(X_train, y_train)\n",
        "y_pred_rf = rnd_clf.predict(X_test)"
      ],
      "metadata": {
        "id": "7HnsTStD2QBb"
      },
      "execution_count": 29,
      "outputs": []
    },
    {
      "cell_type": "markdown",
      "source": [
        "### 결과 비교"
      ],
      "metadata": {
        "id": "l-kLBIhv3AY3"
      }
    },
    {
      "cell_type": "code",
      "source": [
        "print(y_pred)\n",
        "print(y_pred_rf)\n",
        "\n",
        "print(np.sum(y_pred==y_pred_rf) / len(y_pred)) #완전히 일치한다 "
      ],
      "metadata": {
        "colab": {
          "base_uri": "https://localhost:8080/"
        },
        "id": "JIs8vqLn2-qe",
        "outputId": "0783aa7a-1ae0-4be9-a1ce-d2bc2d4296dd"
      },
      "execution_count": 31,
      "outputs": [
        {
          "output_type": "stream",
          "name": "stdout",
          "text": [
            "[0 0 0 1 1 1 0 0 0 0 1 0 1 1 1 0 0 1 1 0 0 1 0 0 0 0 1 0 1 0 1 1 0 0 1 0 0\n",
            " 1 1 1 1 1 0 0 0 0 1 0 1 1 1 1 0 0 1 0 1 1 0 1 0 1 1 0 1 0 0 0 0 1 0 0 1 1\n",
            " 0 0 1 1 0 0 1 1 1 0 1 1 1 0 1 1 1 0 0 0 0 1 0 1 0 1 0 1 1 0 0 0 0 0 1 1 1\n",
            " 0 0 1 1 0 0 0 0 1 1 1 0 0 0]\n",
            "[0 0 0 1 1 1 0 0 0 0 1 0 1 1 1 0 0 1 1 0 0 1 0 0 0 0 1 0 1 0 1 1 0 0 1 0 0\n",
            " 1 1 1 1 1 0 0 0 0 1 0 1 1 1 1 0 0 1 0 1 1 0 1 0 1 1 0 1 0 0 0 0 1 0 0 1 1\n",
            " 0 0 1 1 0 0 1 1 1 0 1 1 1 0 1 1 1 0 0 0 0 1 0 1 0 1 0 1 1 0 0 0 0 0 1 1 1\n",
            " 0 0 1 1 0 0 0 0 1 1 1 0 0 0]\n",
            "1.0\n"
          ]
        }
      ]
    },
    {
      "cell_type": "markdown",
      "source": [
        "### 특성 중요도 확인 "
      ],
      "metadata": {
        "id": "hnA6CcMQ51fW"
      }
    },
    {
      "cell_type": "code",
      "source": [
        "from sklearn.datasets import load_iris\n",
        "iris = load_iris()\n",
        "\n",
        "rnd_clf = RandomForestClassifier(n_estimators=500, random_state=42)\n",
        "\n",
        "rnd_clf.fit(iris.data, iris.target)\n",
        "print(rnd_clf.feature_importances_)\n",
        "\n",
        "for name, score in zip(iris.feature_names, rnd_clf.feature_importances_):\n",
        "  print(name, ':', score)"
      ],
      "metadata": {
        "colab": {
          "base_uri": "https://localhost:8080/"
        },
        "id": "jRA5_BsV54NS",
        "outputId": "977dd57d-d781-48ce-fcf1-3dfe3d681985"
      },
      "execution_count": 11,
      "outputs": [
        {
          "output_type": "stream",
          "name": "stdout",
          "text": [
            "[0.11249225 0.02311929 0.44103046 0.423358  ]\n",
            "sepal length (cm) : 0.11249225099876375\n",
            "sepal width (cm) : 0.02311928828251033\n",
            "petal length (cm) : 0.4410304643639577\n",
            "petal width (cm) : 0.4233579963547682\n"
          ]
        }
      ]
    },
    {
      "cell_type": "markdown",
      "source": [
        "### 이미지 데이터의 중요도 확인 - 이 부분이 확장되서 CNN 이 된다 "
      ],
      "metadata": {
        "id": "GQeNezsXL_dP"
      }
    },
    {
      "cell_type": "code",
      "source": [
        "# MNIST 데이터 가져오기\n",
        "from sklearn.datasets import fetch_openml\n",
        "\n",
        "mnist = fetch_openml('mnist_784', version=1)\n",
        "mnist.target = mnist.target.astype(np.uint8)"
      ],
      "metadata": {
        "id": "VHoYT5ipR-U5"
      },
      "execution_count": 12,
      "outputs": []
    },
    {
      "cell_type": "code",
      "source": [
        "#분류기 만들기\n",
        "from sklearn.ensemble import RandomForestClassifier\n",
        "#n_estimators 는 분류기의 개수 \n",
        "rnd_clf = RandomForestClassifier(n_estimators = 100, random_state=42)\n",
        "rnd_clf.fit(mnist.data, mnist.target)"
      ],
      "metadata": {
        "colab": {
          "base_uri": "https://localhost:8080/"
        },
        "id": "ih0phBouSsJL",
        "outputId": "16ab5162-4f7e-4b37-808e-1d94c6402efc"
      },
      "execution_count": 13,
      "outputs": [
        {
          "output_type": "execute_result",
          "data": {
            "text/plain": [
              "RandomForestClassifier(random_state=42)"
            ]
          },
          "metadata": {},
          "execution_count": 13
        }
      ]
    },
    {
      "cell_type": "code",
      "source": [
        "#중요도를 위한 함수 행성\n",
        "def plot_digit(data):\n",
        "  #이미지 데이터를 출력하기 위해서 2차원으로 변환\n",
        "  image = data.reshape(28, 28)\n",
        "  plt.imshow(image, cmap=mpl.cm.hot, interpolation='nearest')\n",
        "  plt.axis('off')"
      ],
      "metadata": {
        "id": "bqTAYDnoT02C"
      },
      "execution_count": 17,
      "outputs": []
    },
    {
      "cell_type": "code",
      "source": [
        "#중요도 출력\n",
        "\n",
        "plot_digit(rnd_clf.feature_importances_)\n",
        "\n",
        "#컬러바 생성\n",
        "cbar = plt.colorbar(ticks=[rnd_clf.feature_importances_.min(),\n",
        "                              rnd_clf.feature_importances_.max()])\n",
        "cbar.ax.set_yticklabels(['중요하지 않음', '매우 중요'])\n",
        "\n",
        "plt.show()"
      ],
      "metadata": {
        "colab": {
          "base_uri": "https://localhost:8080/",
          "height": 837
        },
        "id": "6PAWiG5uU7WR",
        "outputId": "cc77e5df-df38-4fc7-db31-252168ee7d52"
      },
      "execution_count": 21,
      "outputs": [
        {
          "output_type": "stream",
          "name": "stderr",
          "text": [
            "/usr/local/lib/python3.7/dist-packages/matplotlib/backends/backend_agg.py:214: RuntimeWarning: Glyph 51473 missing from current font.\n",
            "  font.set_text(s, 0.0, flags=flags)\n",
            "/usr/local/lib/python3.7/dist-packages/matplotlib/backends/backend_agg.py:214: RuntimeWarning: Glyph 50836 missing from current font.\n",
            "  font.set_text(s, 0.0, flags=flags)\n",
            "/usr/local/lib/python3.7/dist-packages/matplotlib/backends/backend_agg.py:214: RuntimeWarning: Glyph 54616 missing from current font.\n",
            "  font.set_text(s, 0.0, flags=flags)\n",
            "/usr/local/lib/python3.7/dist-packages/matplotlib/backends/backend_agg.py:214: RuntimeWarning: Glyph 51648 missing from current font.\n",
            "  font.set_text(s, 0.0, flags=flags)\n",
            "/usr/local/lib/python3.7/dist-packages/matplotlib/backends/backend_agg.py:214: RuntimeWarning: Glyph 50506 missing from current font.\n",
            "  font.set_text(s, 0.0, flags=flags)\n",
            "/usr/local/lib/python3.7/dist-packages/matplotlib/backends/backend_agg.py:214: RuntimeWarning: Glyph 51020 missing from current font.\n",
            "  font.set_text(s, 0.0, flags=flags)\n",
            "/usr/local/lib/python3.7/dist-packages/matplotlib/backends/backend_agg.py:214: RuntimeWarning: Glyph 47588 missing from current font.\n",
            "  font.set_text(s, 0.0, flags=flags)\n",
            "/usr/local/lib/python3.7/dist-packages/matplotlib/backends/backend_agg.py:214: RuntimeWarning: Glyph 50864 missing from current font.\n",
            "  font.set_text(s, 0.0, flags=flags)\n",
            "/usr/local/lib/python3.7/dist-packages/matplotlib/backends/backend_agg.py:183: RuntimeWarning: Glyph 51473 missing from current font.\n",
            "  font.set_text(s, 0, flags=flags)\n",
            "/usr/local/lib/python3.7/dist-packages/matplotlib/backends/backend_agg.py:183: RuntimeWarning: Glyph 50836 missing from current font.\n",
            "  font.set_text(s, 0, flags=flags)\n",
            "/usr/local/lib/python3.7/dist-packages/matplotlib/backends/backend_agg.py:183: RuntimeWarning: Glyph 54616 missing from current font.\n",
            "  font.set_text(s, 0, flags=flags)\n",
            "/usr/local/lib/python3.7/dist-packages/matplotlib/backends/backend_agg.py:183: RuntimeWarning: Glyph 51648 missing from current font.\n",
            "  font.set_text(s, 0, flags=flags)\n",
            "/usr/local/lib/python3.7/dist-packages/matplotlib/backends/backend_agg.py:183: RuntimeWarning: Glyph 50506 missing from current font.\n",
            "  font.set_text(s, 0, flags=flags)\n",
            "/usr/local/lib/python3.7/dist-packages/matplotlib/backends/backend_agg.py:183: RuntimeWarning: Glyph 51020 missing from current font.\n",
            "  font.set_text(s, 0, flags=flags)\n",
            "/usr/local/lib/python3.7/dist-packages/matplotlib/backends/backend_agg.py:183: RuntimeWarning: Glyph 47588 missing from current font.\n",
            "  font.set_text(s, 0, flags=flags)\n",
            "/usr/local/lib/python3.7/dist-packages/matplotlib/backends/backend_agg.py:183: RuntimeWarning: Glyph 50864 missing from current font.\n",
            "  font.set_text(s, 0, flags=flags)\n"
          ]
        },
        {
          "output_type": "display_data",
          "data": {
            "text/plain": [
              "<Figure size 432x288 with 2 Axes>"
            ],
            "image/png": "[encoded data removed]"
          },
          "metadata": {
            "needs_background": "light"
          }
        }
      ]
    },
    {
      "cell_type": "markdown",
      "source": [
        "### 타이타닉 데이터의 생존자 예측 "
      ],
      "metadata": {
        "id": "JFy1h_OSaVli"
      }
    },
    {
      "cell_type": "code",
      "source": [
        "#pandas 와 seaborn 을 이용하 데이터는 DataFrame 이므로 info 로 정보를 확인\n",
        "\n",
        "#numpy 를 이용한 데이터는 ndarray 구조\n",
        "#sklearn 은 data, target, featurenames 속성에 독립변수, 종속변수, 독립변수 의미가 저장되어 있다 \n",
        "\n",
        "#데이터 가져오기\n",
        "import seaborn as sns\n",
        "df = sns.load_dataset('titanic')\n",
        "df.info()"
      ],
      "metadata": {
        "colab": {
          "base_uri": "https://localhost:8080/"
        },
        "id": "fXoqaof-aZAn",
        "outputId": "14806788-7ce5-4fa4-e0a5-66cf9e1f660c"
      },
      "execution_count": 22,
      "outputs": [
        {
          "output_type": "stream",
          "name": "stdout",
          "text": [
            "<class 'pandas.core.frame.DataFrame'>\n",
            "RangeIndex: 891 entries, 0 to 890\n",
            "Data columns (total 15 columns):\n",
            " #   Column       Non-Null Count  Dtype   \n",
            "---  ------       --------------  -----   \n",
            " 0   survived     891 non-null    int64   \n",
            " 1   pclass       891 non-null    int64   \n",
            " 2   sex          891 non-null    object  \n",
            " 3   age          714 non-null    float64 \n",
            " 4   sibsp        891 non-null    int64   \n",
            " 5   parch        891 non-null    int64   \n",
            " 6   fare         891 non-null    float64 \n",
            " 7   embarked     889 non-null    object  \n",
            " 8   class        891 non-null    category\n",
            " 9   who          891 non-null    object  \n",
            " 10  adult_male   891 non-null    bool    \n",
            " 11  deck         203 non-null    category\n",
            " 12  embark_town  889 non-null    object  \n",
            " 13  alive        891 non-null    object  \n",
            " 14  alone        891 non-null    bool    \n",
            "dtypes: bool(2), category(2), float64(2), int64(4), object(5)\n",
            "memory usage: 80.7+ KB\n"
          ]
        }
      ]
    },
    {
      "cell_type": "code",
      "source": [
        "#결측치가 많은 deck 열과 중복된 열인 embark_town 열을 제거 \n",
        "#다른 데이터의 경우 상관 계수도 파악을 해서 상관 관계가 너무 높은 데이터가 \n",
        "#존재하면 지우는 것도 고려 \n",
        "rdf = df.drop(['deck', 'embark_town'], axis =1)\n",
        "\n",
        "#결측치가 아주 많지 않은 age의 데이터는 결측치를 삭제\n",
        "rdf = rdf.dropna(subset=['age'], how='any', axis=0)\n",
        "\n",
        "#결측치 대체 - 가장 많이 등장한 값으로 대체 \n",
        "most_freq = rdf['embarked'].value_counts(dropna=True).idxmax()\n",
        "rdf['embarked'].fillna(most_freq, inplace=True)\n",
        "\n",
        "df.info()\n",
        "rdf.info()"
      ],
      "metadata": {
        "colab": {
          "base_uri": "https://localhost:8080/"
        },
        "id": "AyrmCyqcblj1",
        "outputId": "88a4b306-78e5-4372-9b5f-254024b13c8a"
      },
      "execution_count": 28,
      "outputs": [
        {
          "output_type": "stream",
          "name": "stdout",
          "text": [
            "<class 'pandas.core.frame.DataFrame'>\n",
            "RangeIndex: 891 entries, 0 to 890\n",
            "Data columns (total 15 columns):\n",
            " #   Column       Non-Null Count  Dtype   \n",
            "---  ------       --------------  -----   \n",
            " 0   survived     891 non-null    int64   \n",
            " 1   pclass       891 non-null    int64   \n",
            " 2   sex          891 non-null    object  \n",
            " 3   age          714 non-null    float64 \n",
            " 4   sibsp        891 non-null    int64   \n",
            " 5   parch        891 non-null    int64   \n",
            " 6   fare         891 non-null    float64 \n",
            " 7   embarked     889 non-null    object  \n",
            " 8   class        891 non-null    category\n",
            " 9   who          891 non-null    object  \n",
            " 10  adult_male   891 non-null    bool    \n",
            " 11  deck         203 non-null    category\n",
            " 12  embark_town  889 non-null    object  \n",
            " 13  alive        891 non-null    object  \n",
            " 14  alone        891 non-null    bool    \n",
            "dtypes: bool(2), category(2), float64(2), int64(4), object(5)\n",
            "memory usage: 80.7+ KB\n",
            "<class 'pandas.core.frame.DataFrame'>\n",
            "Int64Index: 714 entries, 0 to 890\n",
            "Data columns (total 13 columns):\n",
            " #   Column      Non-Null Count  Dtype   \n",
            "---  ------      --------------  -----   \n",
            " 0   survived    714 non-null    int64   \n",
            " 1   pclass      714 non-null    int64   \n",
            " 2   sex         714 non-null    object  \n",
            " 3   age         714 non-null    float64 \n",
            " 4   sibsp       714 non-null    int64   \n",
            " 5   parch       714 non-null    int64   \n",
            " 6   fare        714 non-null    float64 \n",
            " 7   embarked    714 non-null    object  \n",
            " 8   class       714 non-null    category\n",
            " 9   who         714 non-null    object  \n",
            " 10  adult_male  714 non-null    bool    \n",
            " 11  alive       714 non-null    object  \n",
            " 12  alone       714 non-null    bool    \n",
            "dtypes: bool(2), category(1), float64(2), int64(4), object(4)\n",
            "memory usage: 63.6+ KB\n"
          ]
        }
      ]
    },
    {
      "cell_type": "code",
      "source": [
        "#분석에 사용할 열 만 추출\n",
        "ndf = rdf[['survived', 'pclass', 'sex', 'age', 'sibsp', 'parch', 'embarked']]\n",
        "\n",
        "ndf.info()"
      ],
      "metadata": {
        "colab": {
          "base_uri": "https://localhost:8080/"
        },
        "id": "4NoXaR3Gd1bd",
        "outputId": "2c570b43-8928-4100-d9ed-713827de5a3d"
      },
      "execution_count": 30,
      "outputs": [
        {
          "output_type": "stream",
          "name": "stdout",
          "text": [
            "<class 'pandas.core.frame.DataFrame'>\n",
            "Int64Index: 714 entries, 0 to 890\n",
            "Data columns (total 7 columns):\n",
            " #   Column    Non-Null Count  Dtype  \n",
            "---  ------    --------------  -----  \n",
            " 0   survived  714 non-null    int64  \n",
            " 1   pclass    714 non-null    int64  \n",
            " 2   sex       714 non-null    object \n",
            " 3   age       714 non-null    float64\n",
            " 4   sibsp     714 non-null    int64  \n",
            " 5   parch     714 non-null    int64  \n",
            " 6   embarked  714 non-null    object \n",
            "dtypes: float64(1), int64(4), object(2)\n",
            "memory usage: 44.6+ KB\n"
          ]
        }
      ]
    },
    {
      "cell_type": "code",
      "source": [
        "#원 핫 인코딩\n",
        "onehot_sex = pd.get_dummies(ndf['sex'])\n",
        "ndf = pd.concat([ndf, onehot_sex], axis=1)\n",
        "\n",
        "#데이터 앞에 Town을 추가하여 원핫 인코딩 \n",
        "onehot_embarked = pd.get_dummies(ndf['embarked'], prefix='town')\n",
        "ndf = pd.concat([ndf, onehot_embarked], axis=1)\n",
        "\n",
        "ndf.drop(['sex', 'embarked'], axis=1, inplace=True)\n",
        "\n",
        "ndf.info()"
      ],
      "metadata": {
        "colab": {
          "base_uri": "https://localhost:8080/"
        },
        "id": "zhXgXvobfJDR",
        "outputId": "2c76a453-d767-4fdd-d6a8-be497ad4643a"
      },
      "execution_count": 31,
      "outputs": [
        {
          "output_type": "stream",
          "name": "stdout",
          "text": [
            "<class 'pandas.core.frame.DataFrame'>\n",
            "Int64Index: 714 entries, 0 to 890\n",
            "Data columns (total 10 columns):\n",
            " #   Column    Non-Null Count  Dtype  \n",
            "---  ------    --------------  -----  \n",
            " 0   survived  714 non-null    int64  \n",
            " 1   pclass    714 non-null    int64  \n",
            " 2   age       714 non-null    float64\n",
            " 3   sibsp     714 non-null    int64  \n",
            " 4   parch     714 non-null    int64  \n",
            " 5   female    714 non-null    uint8  \n",
            " 6   male      714 non-null    uint8  \n",
            " 7   town_C    714 non-null    uint8  \n",
            " 8   town_Q    714 non-null    uint8  \n",
            " 9   town_S    714 non-null    uint8  \n",
            "dtypes: float64(1), int64(4), uint8(5)\n",
            "memory usage: 37.0 KB\n"
          ]
        }
      ]
    },
    {
      "cell_type": "code",
      "source": [
        "# 속성(변수) 선택\n",
        "X=ndf[['pclass', 'age', 'sibsp', 'parch', 'female', 'male', \n",
        "       'town_C', 'town_Q', 'town_S']]  #독립 변수 X\n",
        "y=ndf['survived']                      #종속 변수 Y\n",
        "\n",
        "# 설명 변수 데이터를 정규화(normalization)\n",
        "from sklearn import preprocessing\n",
        "X = preprocessing.StandardScaler().fit(X).transform(X)\n",
        "\n",
        "# train data 와 test data로 구분(7:3 비율)\n",
        "from sklearn.model_selection import train_test_split\n",
        "X_train, X_test, y_train, y_test = train_test_split(X, y, test_size=0.3, random_state=10) \n",
        "forest = RandomForestClassifier(criterion='entropy',\n",
        "                                n_estimators=25, \n",
        "                                random_state=1,\n",
        "                                n_jobs=2)\n",
        "forest.fit(X_train, y_train)\n",
        "\n",
        "# test data를 가지고 y_hat을 예측 (분류) \n",
        "y_hat = forest.predict(X_test) \n",
        "\n",
        "print(y_hat[0:10])\n",
        "print(y_test.values[0:10])\n",
        "print('\\n')\n",
        "\n",
        "# 모형 성능 평가 - Confusion Matrix 계산\n",
        "from sklearn import metrics \n",
        "tree_matrix = metrics.confusion_matrix(y_test, y_hat)  \n",
        "print(tree_matrix)\n",
        "print('\\n')\n",
        "\n",
        "# 모형 성능 평가 - 평가지표 계산\n",
        "tree_report = metrics.classification_report(y_test, y_hat)            \n",
        "print(tree_report)"
      ],
      "metadata": {
        "colab": {
          "base_uri": "https://localhost:8080/"
        },
        "id": "jq8bZc_QruxZ",
        "outputId": "12607cc2-af42-42be-d7aa-19b564371156"
      },
      "execution_count": 32,
      "outputs": [
        {
          "output_type": "stream",
          "name": "stdout",
          "text": [
            "[0 0 1 0 0 1 1 0 0 0]\n",
            "[0 0 1 0 0 1 1 1 0 0]\n",
            "\n",
            "\n",
            "[[106  19]\n",
            " [ 27  63]]\n",
            "\n",
            "\n",
            "              precision    recall  f1-score   support\n",
            "\n",
            "           0       0.80      0.85      0.82       125\n",
            "           1       0.77      0.70      0.73        90\n",
            "\n",
            "    accuracy                           0.79       215\n",
            "   macro avg       0.78      0.77      0.78       215\n",
            "weighted avg       0.78      0.79      0.78       215\n",
            "\n"
          ]
        }
      ]
    },
    {
      "cell_type": "code",
      "source": [
        "n_features = X.data.shape[1]\n",
        "plt.barh(np.arange(n_features), forest.feature_importances_, align='center')\n",
        "plt.yticks(np.arange(n_features), ['pclass', 'age', 'sibsp', 'parch', 'female', 'male', \n",
        "       'town_C', 'town_Q', 'town_S'])\n",
        "plt.xlabel(\"특성 중요도\")\n",
        "plt.ylabel(\"특성\")\n",
        "plt.ylim(-1, n_features)"
      ],
      "metadata": {
        "colab": {
          "base_uri": "https://localhost:8080/",
          "height": 653
        },
        "id": "NRV9tMy6r7nR",
        "outputId": "fe688198-b71a-4f2d-c151-72c2cf241d74"
      },
      "execution_count": 33,
      "outputs": [
        {
          "output_type": "execute_result",
          "data": {
            "text/plain": [
              "(-1.0, 9.0)"
            ]
          },
          "metadata": {},
          "execution_count": 33
        },
        {
          "output_type": "stream",
          "name": "stderr",
          "text": [
            "/usr/local/lib/python3.7/dist-packages/matplotlib/backends/backend_agg.py:214: RuntimeWarning: Glyph 53945 missing from current font.\n",
            "  font.set_text(s, 0.0, flags=flags)\n",
            "/usr/local/lib/python3.7/dist-packages/matplotlib/backends/backend_agg.py:214: RuntimeWarning: Glyph 49457 missing from current font.\n",
            "  font.set_text(s, 0.0, flags=flags)\n",
            "/usr/local/lib/python3.7/dist-packages/matplotlib/backends/backend_agg.py:214: RuntimeWarning: Glyph 51473 missing from current font.\n",
            "  font.set_text(s, 0.0, flags=flags)\n",
            "/usr/local/lib/python3.7/dist-packages/matplotlib/backends/backend_agg.py:214: RuntimeWarning: Glyph 50836 missing from current font.\n",
            "  font.set_text(s, 0.0, flags=flags)\n",
            "/usr/local/lib/python3.7/dist-packages/matplotlib/backends/backend_agg.py:214: RuntimeWarning: Glyph 46020 missing from current font.\n",
            "  font.set_text(s, 0.0, flags=flags)\n",
            "/usr/local/lib/python3.7/dist-packages/matplotlib/backends/backend_agg.py:183: RuntimeWarning: Glyph 53945 missing from current font.\n",
            "  font.set_text(s, 0, flags=flags)\n",
            "/usr/local/lib/python3.7/dist-packages/matplotlib/backends/backend_agg.py:183: RuntimeWarning: Glyph 49457 missing from current font.\n",
            "  font.set_text(s, 0, flags=flags)\n",
            "/usr/local/lib/python3.7/dist-packages/matplotlib/backends/backend_agg.py:183: RuntimeWarning: Glyph 51473 missing from current font.\n",
            "  font.set_text(s, 0, flags=flags)\n",
            "/usr/local/lib/python3.7/dist-packages/matplotlib/backends/backend_agg.py:183: RuntimeWarning: Glyph 50836 missing from current font.\n",
            "  font.set_text(s, 0, flags=flags)\n",
            "/usr/local/lib/python3.7/dist-packages/matplotlib/backends/backend_agg.py:183: RuntimeWarning: Glyph 46020 missing from current font.\n",
            "  font.set_text(s, 0, flags=flags)\n"
          ]
        },
        {
          "output_type": "display_data",
          "data": {
            "text/plain": [
              "<Figure size 432x288 with 1 Axes>"
            ],
            "image/png": "[encoded data removed]"
          },
          "metadata": {
            "needs_background": "light"
          }
        }
      ]
    },
    {
      "cell_type": "markdown",
      "source": [
        "### RandomForest 를 이용한 집 값 예측"
      ],
      "metadata": {
        "id": "Umm0UMnTt5vF"
      }
    },
    {
      "cell_type": "code",
      "source": [
        "from sklearn.datasets import load_boston\n",
        "\n",
        "boston = load_boston()\n",
        "#피처 데이터의 항목 이름 확인\n",
        "print(boston.feature_names)"
      ],
      "metadata": {
        "colab": {
          "base_uri": "https://localhost:8080/"
        },
        "id": "Jgh7eH6It-7U",
        "outputId": "af6ab082-830d-4868-e79a-5373a38e2ae7"
      },
      "execution_count": 20,
      "outputs": [
        {
          "output_type": "stream",
          "name": "stdout",
          "text": [
            "['CRIM' 'ZN' 'INDUS' 'CHAS' 'NOX' 'RM' 'AGE' 'DIS' 'RAD' 'TAX' 'PTRATIO'\n",
            " 'B' 'LSTAT']\n"
          ]
        },
        {
          "output_type": "stream",
          "name": "stderr",
          "text": [
            "/usr/local/lib/python3.7/dist-packages/sklearn/utils/deprecation.py:87: FutureWarning: Function load_boston is deprecated; `load_boston` is deprecated in 1.0 and will be removed in 1.2.\n",
            "\n",
            "    The Boston housing prices dataset has an ethical problem. You can refer to\n",
            "    the documentation of this function for further details.\n",
            "\n",
            "    The scikit-learn maintainers therefore strongly discourage the use of this\n",
            "    dataset unless the purpose of the code is to study and educate about\n",
            "    ethical issues in data science and machine learning.\n",
            "\n",
            "    In this special case, you can fetch the dataset from the original\n",
            "    source::\n",
            "\n",
            "        import pandas as pd\n",
            "        import numpy as np\n",
            "\n",
            "\n",
            "        data_url = \"http://lib.stat.cmu.edu/datasets/boston\"\n",
            "        raw_df = pd.read_csv(data_url, sep=\"\\s+\", skiprows=22, header=None)\n",
            "        data = np.hstack([raw_df.values[::2, :], raw_df.values[1::2, :2]])\n",
            "        target = raw_df.values[1::2, 2]\n",
            "\n",
            "    Alternative datasets include the California housing dataset (i.e.\n",
            "    :func:`~sklearn.datasets.fetch_california_housing`) and the Ames housing\n",
            "    dataset. You can load the datasets as follows::\n",
            "\n",
            "        from sklearn.datasets import fetch_california_housing\n",
            "        housing = fetch_california_housing()\n",
            "\n",
            "    for the California housing dataset and::\n",
            "\n",
            "        from sklearn.datasets import fetch_openml\n",
            "        housing = fetch_openml(name=\"house_prices\", as_frame=True)\n",
            "\n",
            "    for the Ames housing dataset.\n",
            "    \n",
            "  warnings.warn(msg, category=FutureWarning)\n"
          ]
        }
      ]
    },
    {
      "cell_type": "markdown",
      "source": [
        ""
      ],
      "metadata": {
        "id": "jviA_VQKu1zB"
      }
    },
    {
      "cell_type": "code",
      "source": [
        ""
      ],
      "metadata": {
        "id": "HG0-Jps9u8SJ"
      },
      "execution_count": null,
      "outputs": []
    },
    {
      "cell_type": "code",
      "source": [
        "#데이터를 확인하거나 전처리를 수행한 후 설명을 할 때는 ndarray 보다는\n",
        "#DataFrame 이 수월함\n",
        "bostonDF = pd.DataFrame(boston.data, columns = boston.feature_names)\n",
        "bostonDF['PRICE'] = boston.target\n",
        "\n",
        "bostonDF.info()"
      ],
      "metadata": {
        "colab": {
          "base_uri": "https://localhost:8080/"
        },
        "id": "H3Lrgjfuu8cB",
        "outputId": "f52543ee-549f-47d5-e7da-04858fe2c84d"
      },
      "execution_count": 21,
      "outputs": [
        {
          "output_type": "stream",
          "name": "stdout",
          "text": [
            "<class 'pandas.core.frame.DataFrame'>\n",
            "RangeIndex: 506 entries, 0 to 505\n",
            "Data columns (total 14 columns):\n",
            " #   Column   Non-Null Count  Dtype  \n",
            "---  ------   --------------  -----  \n",
            " 0   CRIM     506 non-null    float64\n",
            " 1   ZN       506 non-null    float64\n",
            " 2   INDUS    506 non-null    float64\n",
            " 3   CHAS     506 non-null    float64\n",
            " 4   NOX      506 non-null    float64\n",
            " 5   RM       506 non-null    float64\n",
            " 6   AGE      506 non-null    float64\n",
            " 7   DIS      506 non-null    float64\n",
            " 8   RAD      506 non-null    float64\n",
            " 9   TAX      506 non-null    float64\n",
            " 10  PTRATIO  506 non-null    float64\n",
            " 11  B        506 non-null    float64\n",
            " 12  LSTAT    506 non-null    float64\n",
            " 13  PRICE    506 non-null    float64\n",
            "dtypes: float64(14)\n",
            "memory usage: 55.5 KB\n"
          ]
        }
      ]
    },
    {
      "cell_type": "code",
      "source": [
        "#피처 데이터와 타겟 데이터 생성\n",
        "X_feature = bostonDF['RM'].values.reshape(-1,1)\n",
        "y_target = bostonDF['PRICE'].values.reshape(-1,1)"
      ],
      "metadata": {
        "id": "JO9zLGa4v0rL"
      },
      "execution_count": 22,
      "outputs": []
    },
    {
      "cell_type": "code",
      "source": [
        "#회귀 모델 생성\n",
        "from sklearn.ensemble import RandomForestRegressor\n",
        "\n",
        "rf =RandomForestRegressor(n_estimators=1000, random_state=42)"
      ],
      "metadata": {
        "id": "3zGIkdDWwsb3"
      },
      "execution_count": 14,
      "outputs": []
    },
    {
      "cell_type": "code",
      "source": [
        "#교차 검증\n",
        "from sklearn.model_selection import cross_val_score\n",
        "\n",
        "#5겹 교차 검증\n",
        "neg_mse_scores = cross_val_score(rf, X_feature, y_target,\n",
        "                                 scoring='neg_mean_squared_error',\n",
        "                                 cv=5)\n",
        "\n",
        "#이 값은 큰게 좋음 \n",
        "print(\"교차 검증 점수:\", neg_mse_scores)\n",
        "\n",
        "#잔차의 제곱 의 합의 제곱근 - rmse\n",
        "rmse_scores = np.sqrt(-1 * neg_mse_scores)\n",
        "print(\"RMSE:\", neg_mse_scores)\n",
        "\n",
        "#교차 검증시 RMSE의 평균값\n",
        "avg_rmse = np.mean(rmse_scores)\n",
        "print(\"RMSE 평균:\", avg_rmse)"
      ],
      "metadata": {
        "colab": {
          "base_uri": "https://localhost:8080/"
        },
        "id": "jTUb-8a0xnLW",
        "outputId": "9a44e725-fb5b-47f8-b50c-1374530d9b20"
      },
      "execution_count": 23,
      "outputs": [
        {
          "output_type": "stream",
          "name": "stderr",
          "text": [
            "/usr/local/lib/python3.7/dist-packages/sklearn/model_selection/_validation.py:680: DataConversionWarning: A column-vector y was passed when a 1d array was expected. Please change the shape of y to (n_samples,), for example using ravel().\n",
            "  estimator.fit(X_train, y_train, **fit_params)\n",
            "/usr/local/lib/python3.7/dist-packages/sklearn/model_selection/_validation.py:680: DataConversionWarning: A column-vector y was passed when a 1d array was expected. Please change the shape of y to (n_samples,), for example using ravel().\n",
            "  estimator.fit(X_train, y_train, **fit_params)\n",
            "/usr/local/lib/python3.7/dist-packages/sklearn/model_selection/_validation.py:680: DataConversionWarning: A column-vector y was passed when a 1d array was expected. Please change the shape of y to (n_samples,), for example using ravel().\n",
            "  estimator.fit(X_train, y_train, **fit_params)\n",
            "/usr/local/lib/python3.7/dist-packages/sklearn/model_selection/_validation.py:680: DataConversionWarning: A column-vector y was passed when a 1d array was expected. Please change the shape of y to (n_samples,), for example using ravel().\n",
            "  estimator.fit(X_train, y_train, **fit_params)\n",
            "/usr/local/lib/python3.7/dist-packages/sklearn/model_selection/_validation.py:680: DataConversionWarning: A column-vector y was passed when a 1d array was expected. Please change the shape of y to (n_samples,), for example using ravel().\n",
            "  estimator.fit(X_train, y_train, **fit_params)\n"
          ]
        },
        {
          "output_type": "stream",
          "name": "stdout",
          "text": [
            "교차 검증 점수: [-26.28607064 -39.65382315 -45.20532478 -90.33664476 -69.78493246]\n",
            "RMSE: [-26.28607064 -39.65382315 -45.20532478 -90.33664476 -69.78493246]\n",
            "RMSE 평균: 7.201181957287375\n"
          ]
        }
      ]
    },
    {
      "cell_type": "markdown",
      "source": [
        "## Boosting\n",
        "### AdaBoost"
      ],
      "metadata": {
        "id": "czynmKSs75iI"
      }
    },
    {
      "cell_type": "code",
      "source": [
        "from pandas.core.common import random_state\n",
        "#비선형 데이터 생성\n",
        "from sklearn.datasets import make_moons\n",
        "X, y = make_moons(n_samples=500, noise=0.30, random_state=42)"
      ],
      "metadata": {
        "id": "9A62erCo75H2"
      },
      "execution_count": 24,
      "outputs": []
    },
    {
      "cell_type": "code",
      "source": [
        "from sklearn.tree import DecisionTreeClassifier\n",
        "# 모델 생성 및 훈련 \n",
        "from sklearn.ensemble import AdaBoostClassifier\n",
        "\n",
        "ada_clf = AdaBoostClassifier(DecisionTreeClassifier(max_depth=2),\n",
        "                             n_estimators=200,\n",
        "                             algorithm = \"SAMME.R\",\n",
        "                             learning_rate=0.5,\n",
        "                             random_state=42)\n",
        "ada_clf.fit(X, y)"
      ],
      "metadata": {
        "colab": {
          "base_uri": "https://localhost:8080/"
        },
        "id": "4DVseIxA8UXo",
        "outputId": "09a54862-f22b-41e4-f52d-90177bb0b2ae"
      },
      "execution_count": 25,
      "outputs": [
        {
          "output_type": "execute_result",
          "data": {
            "text/plain": [
              "AdaBoostClassifier(base_estimator=DecisionTreeClassifier(max_depth=2),\n",
              "                   learning_rate=0.5, n_estimators=200, random_state=42)"
            ]
          },
          "metadata": {},
          "execution_count": 25
        }
      ]
    },
    {
      "cell_type": "markdown",
      "source": [
        "## GradientBoostring\n",
        "### moons 데이터에 GBM 적용"
      ],
      "metadata": {
        "id": "NicV_QUPQ6w6"
      }
    },
    {
      "cell_type": "code",
      "source": [
        "#비선형 데이터 생성\n",
        "from sklearn.datasets import make_moons\n",
        "from sklearn.model_selection import train_test_split\n",
        "from sklearn import metrics \n",
        "\n",
        "X, y = make_moons(n_samples = 500, noise=0.30, random_state=42)\n",
        "\n",
        "X_train, X_test, y_train, y_test = train_test_split(X, y, random_state=42)\n",
        "\n",
        "#모델 생성\n",
        "from sklearn.ensemble import GradientBoostingClassifier\n",
        "gb_clf = GradientBoostingClassifier(random_state=42)\n",
        "import time\n",
        "#모델이 훈련하기 전의 시간 저장 \n",
        "start_time = time.time()\n",
        "\n",
        "gb_clf.fit(X_train, y_train)\n",
        "\n",
        "#모델이 훈련을 종료한 시간 저장\n",
        "end_time = time.time()\n",
        "\n",
        "#예측\n",
        "gb_pred = gb_clf.predict(X_test)\n",
        "\n",
        "#정확도 확인\n",
        "print(\"정확도 : \", metrics.accuracy_score(y_test, gb_pred))\n",
        "#훈련 시간 확인\n",
        "print(\"훈련시간 : \", (end_time -start_time))"
      ],
      "metadata": {
        "colab": {
          "base_uri": "https://localhost:8080/"
        },
        "id": "miD1-Z0IQ361",
        "outputId": "ca6a20d6-1c62-4bfb-cac2-e78ce14e1246"
      },
      "execution_count": 26,
      "outputs": [
        {
          "output_type": "stream",
          "name": "stdout",
          "text": [
            "정확도 :  0.888\n",
            "훈련시간 :  0.20457124710083008\n"
          ]
        }
      ]
    },
    {
      "cell_type": "markdown",
      "source": [
        "### 하이퍼 파라미터 튜닝 - 최적의 하이퍼 파라미터 찾기"
      ],
      "metadata": {
        "id": "-euHWwEOecpr"
      }
    },
    {
      "cell_type": "code",
      "source": [
        "from distutils import version\n",
        "from sklearn.model_selection import GridSearchCV\n",
        "\n",
        "#확인할 하이퍼 파라미터 조합을 생성\n",
        "params = {\n",
        "    'n_estimators' : [100,50],\n",
        "    'learning_rate' : [0.05,1]\n",
        "}\n",
        "\n",
        "#하이퍼 파라미터 튜닝 시작\n",
        "grid_cv = GridSearchCV(gb_clf, param_grid=params, cv=2, verbose=1)\n",
        "grid_cv.fit(X_train, y_train)\n",
        "\n",
        "#최적의 하이퍼 파라미터 값이 최소값이나 최대값인 경우는\n",
        "#값을 조금 더 올리거나 내려서 수행을 더 해봐야 한다\n",
        "print(\"최적의 하이퍼 파라미터 : \", grid_cv.best_params_)\n",
        "print(\"최적의 정확도 : \", grid_cv.best_score_)"
      ],
      "metadata": {
        "colab": {
          "base_uri": "https://localhost:8080/"
        },
        "id": "SkeX-nrUeghR",
        "outputId": "9bd2ad3f-3605-4ae6-b546-5e81cfa9b973"
      },
      "execution_count": 27,
      "outputs": [
        {
          "output_type": "stream",
          "name": "stdout",
          "text": [
            "Fitting 2 folds for each of 4 candidates, totalling 8 fits\n",
            "최적의 하이퍼 파라미터 :  {'learning_rate': 0.05, 'n_estimators': 100}\n",
            "최적의 정확도 :  0.8960063716008647\n"
          ]
        }
      ]
    },
    {
      "cell_type": "markdown",
      "source": [
        "### XGBoost\n"
      ],
      "metadata": {
        "id": "TWts4_uQnklx"
      }
    },
    {
      "cell_type": "code",
      "source": [
        "#데이터 가져오기\n",
        "from sklearn.datasets import load_breast_cancer\n",
        "\n",
        "dataset = load_breast_cancer()\n",
        "\n",
        "X_features = dataset.data\n",
        "y_target = dataset.target\n",
        "\n",
        "cancer_df = pd.DataFrame(data = X_features, columns=dataset.feature_names)\n",
        "cancer_df['target'] = y_target\n",
        "cancer_df.info()"
      ],
      "metadata": {
        "colab": {
          "base_uri": "https://localhost:8080/"
        },
        "id": "bs-NBxvznnh9",
        "outputId": "3b0d5b67-3e1e-48f0-bb42-b8fe4394d4df"
      },
      "execution_count": 28,
      "outputs": [
        {
          "output_type": "stream",
          "name": "stdout",
          "text": [
            "<class 'pandas.core.frame.DataFrame'>\n",
            "RangeIndex: 569 entries, 0 to 568\n",
            "Data columns (total 31 columns):\n",
            " #   Column                   Non-Null Count  Dtype  \n",
            "---  ------                   --------------  -----  \n",
            " 0   mean radius              569 non-null    float64\n",
            " 1   mean texture             569 non-null    float64\n",
            " 2   mean perimeter           569 non-null    float64\n",
            " 3   mean area                569 non-null    float64\n",
            " 4   mean smoothness          569 non-null    float64\n",
            " 5   mean compactness         569 non-null    float64\n",
            " 6   mean concavity           569 non-null    float64\n",
            " 7   mean concave points      569 non-null    float64\n",
            " 8   mean symmetry            569 non-null    float64\n",
            " 9   mean fractal dimension   569 non-null    float64\n",
            " 10  radius error             569 non-null    float64\n",
            " 11  texture error            569 non-null    float64\n",
            " 12  perimeter error          569 non-null    float64\n",
            " 13  area error               569 non-null    float64\n",
            " 14  smoothness error         569 non-null    float64\n",
            " 15  compactness error        569 non-null    float64\n",
            " 16  concavity error          569 non-null    float64\n",
            " 17  concave points error     569 non-null    float64\n",
            " 18  symmetry error           569 non-null    float64\n",
            " 19  fractal dimension error  569 non-null    float64\n",
            " 20  worst radius             569 non-null    float64\n",
            " 21  worst texture            569 non-null    float64\n",
            " 22  worst perimeter          569 non-null    float64\n",
            " 23  worst area               569 non-null    float64\n",
            " 24  worst smoothness         569 non-null    float64\n",
            " 25  worst compactness        569 non-null    float64\n",
            " 26  worst concavity          569 non-null    float64\n",
            " 27  worst concave points     569 non-null    float64\n",
            " 28  worst symmetry           569 non-null    float64\n",
            " 29  worst fractal dimension  569 non-null    float64\n",
            " 30  target                   569 non-null    int64  \n",
            "dtypes: float64(30), int64(1)\n",
            "memory usage: 137.9 KB\n"
          ]
        }
      ]
    },
    {
      "cell_type": "code",
      "source": [
        "#타겟 이름 확인\n",
        "print(dataset.target_names)\n",
        "#malignant : 악성\n",
        "#benign : 악성이 아닌 "
      ],
      "metadata": {
        "colab": {
          "base_uri": "https://localhost:8080/"
        },
        "id": "TyEiUXujpP99",
        "outputId": "302f958a-e8b6-47d3-8018-fea51842b69c"
      },
      "execution_count": 29,
      "outputs": [
        {
          "output_type": "stream",
          "name": "stdout",
          "text": [
            "['malignant' 'benign']\n"
          ]
        }
      ]
    },
    {
      "cell_type": "code",
      "source": [
        "#샘플의 클래스 비율 확인\n",
        "print(cancer_df['target'].value_counts())"
      ],
      "metadata": {
        "colab": {
          "base_uri": "https://localhost:8080/"
        },
        "id": "qnfswGEWsZNF",
        "outputId": "d5bc05eb-c62d-46b1-82fa-cc698605d04b"
      },
      "execution_count": 30,
      "outputs": [
        {
          "output_type": "stream",
          "name": "stdout",
          "text": [
            "1    357\n",
            "0    212\n",
            "Name: target, dtype: int64\n"
          ]
        }
      ]
    },
    {
      "cell_type": "code",
      "source": [
        "#학습 데이터 와 훈련 데이터 분할\n",
        "X_train, X_test, y_train, y_test = train_test_split(X_features, y_target,\n",
        "                                                    test_size=0.2, random_state=42)\n",
        "\n",
        "print(X_train.shape)\n",
        "print(X_test.shape)"
      ],
      "metadata": {
        "colab": {
          "base_uri": "https://localhost:8080/"
        },
        "id": "aakSluvas2EW",
        "outputId": "0e60b86c-595a-4d9e-a70e-342d96c1971c"
      },
      "execution_count": 31,
      "outputs": [
        {
          "output_type": "stream",
          "name": "stdout",
          "text": [
            "(455, 30)\n",
            "(114, 30)\n"
          ]
        }
      ]
    },
    {
      "cell_type": "code",
      "source": [
        "#XGB 를 위한 데이터 생성\n",
        "import xgboost as xgb\n",
        "\n",
        "#내부적으로 교차 검증을 수행하기 때문에 데이터 구조가 다름\n",
        "dtrain = xgb.DMatrix(data=X_train, label=y_train)\n",
        "dtest = xgb.DMatrix(data=X_test, label=y_test)"
      ],
      "metadata": {
        "id": "3StP4tr6uJpK"
      },
      "execution_count": 32,
      "outputs": []
    },
    {
      "cell_type": "code",
      "source": [
        "#XGB를 위한 하이퍼 파라미터 생성\n",
        "params = {'max_depth' : 3, 'eta':0.1, 'objective' : 'binary:logistic',\n",
        "          'eval_metric':'logloss'}\n",
        "    \n",
        "num_rounds = 400"
      ],
      "metadata": {
        "id": "HlAr7OkruxGW"
      },
      "execution_count": 33,
      "outputs": []
    },
    {
      "cell_type": "code",
      "source": [
        "#분류기 생성\n",
        "wlist = [(dtrain,'train'), (dtest, 'eval')]\n",
        "#훈련\n",
        "xgb_model = xgb.train(params, dtrain=dtrain, num_boost_round=num_rounds,\n",
        "                      early_stopping_rounds=100,\n",
        "                      evals=wlist)"
      ],
      "metadata": {
        "colab": {
          "base_uri": "https://localhost:8080/"
        },
        "id": "hbiZ1P0Ovfzk",
        "outputId": "c468f61c-542c-423f-f826-b29f4cd858b6"
      },
      "execution_count": 34,
      "outputs": [
        {
          "output_type": "stream",
          "name": "stdout",
          "text": [
            "[0]\ttrain-logloss:0.609607\teval-logloss:0.614431\n",
            "Multiple eval metrics have been passed: 'eval-logloss' will be used for early stopping.\n",
            "\n",
            "Will train until eval-logloss hasn't improved in 100 rounds.\n",
            "[1]\ttrain-logloss:0.540756\teval-logloss:0.547208\n",
            "[2]\ttrain-logloss:0.484074\teval-logloss:0.495586\n",
            "[3]\ttrain-logloss:0.433242\teval-logloss:0.446594\n",
            "[4]\ttrain-logloss:0.389846\teval-logloss:0.406819\n",
            "[5]\ttrain-logloss:0.352125\teval-logloss:0.370823\n",
            "[6]\ttrain-logloss:0.319491\teval-logloss:0.340322\n",
            "[7]\ttrain-logloss:0.291385\teval-logloss:0.315586\n",
            "[8]\ttrain-logloss:0.266061\teval-logloss:0.291813\n",
            "[9]\ttrain-logloss:0.243922\teval-logloss:0.27323\n",
            "[10]\ttrain-logloss:0.224081\teval-logloss:0.254899\n",
            "[11]\ttrain-logloss:0.206975\teval-logloss:0.242168\n",
            "[12]\ttrain-logloss:0.191283\teval-logloss:0.225769\n",
            "[13]\ttrain-logloss:0.177047\teval-logloss:0.212827\n",
            "[14]\ttrain-logloss:0.16451\teval-logloss:0.199469\n",
            "[15]\ttrain-logloss:0.153192\teval-logloss:0.191687\n",
            "[16]\ttrain-logloss:0.14312\teval-logloss:0.180686\n",
            "[17]\ttrain-logloss:0.134096\teval-logloss:0.174324\n",
            "[18]\ttrain-logloss:0.125223\teval-logloss:0.165735\n",
            "[19]\ttrain-logloss:0.116873\teval-logloss:0.155169\n",
            "[20]\ttrain-logloss:0.109796\teval-logloss:0.15131\n",
            "[21]\ttrain-logloss:0.103196\teval-logloss:0.142974\n",
            "[22]\ttrain-logloss:0.097388\teval-logloss:0.140384\n",
            "[23]\ttrain-logloss:0.091705\teval-logloss:0.136592\n",
            "[24]\ttrain-logloss:0.086565\teval-logloss:0.131529\n",
            "[25]\ttrain-logloss:0.081669\teval-logloss:0.128853\n",
            "[26]\ttrain-logloss:0.077423\teval-logloss:0.124978\n",
            "[27]\ttrain-logloss:0.07337\teval-logloss:0.123122\n",
            "[28]\ttrain-logloss:0.069806\teval-logloss:0.119021\n",
            "[29]\ttrain-logloss:0.066339\teval-logloss:0.117689\n",
            "[30]\ttrain-logloss:0.063319\teval-logloss:0.117189\n",
            "[31]\ttrain-logloss:0.060129\teval-logloss:0.114692\n",
            "[32]\ttrain-logloss:0.057598\teval-logloss:0.114833\n",
            "[33]\ttrain-logloss:0.054901\teval-logloss:0.11278\n",
            "[34]\ttrain-logloss:0.052488\teval-logloss:0.110999\n",
            "[35]\ttrain-logloss:0.04981\teval-logloss:0.110496\n",
            "[36]\ttrain-logloss:0.047893\teval-logloss:0.110435\n",
            "[37]\ttrain-logloss:0.045769\teval-logloss:0.107738\n",
            "[38]\ttrain-logloss:0.04361\teval-logloss:0.1078\n",
            "[39]\ttrain-logloss:0.042119\teval-logloss:0.105969\n",
            "[40]\ttrain-logloss:0.0405\teval-logloss:0.105489\n",
            "[41]\ttrain-logloss:0.038846\teval-logloss:0.106594\n",
            "[42]\ttrain-logloss:0.037259\teval-logloss:0.106332\n",
            "[43]\ttrain-logloss:0.035663\teval-logloss:0.105749\n",
            "[44]\ttrain-logloss:0.034423\teval-logloss:0.104785\n",
            "[45]\ttrain-logloss:0.033139\teval-logloss:0.104982\n",
            "[46]\ttrain-logloss:0.032217\teval-logloss:0.103758\n",
            "[47]\ttrain-logloss:0.031052\teval-logloss:0.104128\n",
            "[48]\ttrain-logloss:0.029943\teval-logloss:0.10416\n",
            "[49]\ttrain-logloss:0.029034\teval-logloss:0.103933\n",
            "[50]\ttrain-logloss:0.028204\teval-logloss:0.102801\n",
            "[51]\ttrain-logloss:0.027266\teval-logloss:0.10118\n",
            "[52]\ttrain-logloss:0.026376\teval-logloss:0.101623\n",
            "[53]\ttrain-logloss:0.025675\teval-logloss:0.101096\n",
            "[54]\ttrain-logloss:0.024912\teval-logloss:0.101659\n",
            "[55]\ttrain-logloss:0.02414\teval-logloss:0.101508\n",
            "[56]\ttrain-logloss:0.023502\teval-logloss:0.100735\n",
            "[57]\ttrain-logloss:0.022982\teval-logloss:0.102012\n",
            "[58]\ttrain-logloss:0.022329\teval-logloss:0.101941\n",
            "[59]\ttrain-logloss:0.021773\teval-logloss:0.101585\n",
            "[60]\ttrain-logloss:0.021204\teval-logloss:0.101354\n",
            "[61]\ttrain-logloss:0.020652\teval-logloss:0.100237\n",
            "[62]\ttrain-logloss:0.020185\teval-logloss:0.09891\n",
            "[63]\ttrain-logloss:0.019732\teval-logloss:0.099162\n",
            "[64]\ttrain-logloss:0.019242\teval-logloss:0.099324\n",
            "[65]\ttrain-logloss:0.018876\teval-logloss:0.099136\n",
            "[66]\ttrain-logloss:0.018442\teval-logloss:0.100265\n",
            "[67]\ttrain-logloss:0.01805\teval-logloss:0.101087\n",
            "[68]\ttrain-logloss:0.017708\teval-logloss:0.101672\n",
            "[69]\ttrain-logloss:0.017302\teval-logloss:0.101868\n",
            "[70]\ttrain-logloss:0.016997\teval-logloss:0.101705\n",
            "[71]\ttrain-logloss:0.016706\teval-logloss:0.100816\n",
            "[72]\ttrain-logloss:0.016372\teval-logloss:0.10062\n",
            "[73]\ttrain-logloss:0.016019\teval-logloss:0.099539\n",
            "[74]\ttrain-logloss:0.015695\teval-logloss:0.098823\n",
            "[75]\ttrain-logloss:0.01534\teval-logloss:0.099537\n",
            "[76]\ttrain-logloss:0.015038\teval-logloss:0.100048\n",
            "[77]\ttrain-logloss:0.014705\teval-logloss:0.101435\n",
            "[78]\ttrain-logloss:0.014531\teval-logloss:0.101874\n",
            "[79]\ttrain-logloss:0.014352\teval-logloss:0.101579\n",
            "[80]\ttrain-logloss:0.01412\teval-logloss:0.101153\n",
            "[81]\ttrain-logloss:0.013941\teval-logloss:0.100166\n",
            "[82]\ttrain-logloss:0.013666\teval-logloss:0.10086\n",
            "[83]\ttrain-logloss:0.01349\teval-logloss:0.100863\n",
            "[84]\ttrain-logloss:0.013214\teval-logloss:0.102216\n",
            "[85]\ttrain-logloss:0.013022\teval-logloss:0.101555\n",
            "[86]\ttrain-logloss:0.012809\teval-logloss:0.102657\n",
            "[87]\ttrain-logloss:0.012676\teval-logloss:0.103077\n",
            "[88]\ttrain-logloss:0.012558\teval-logloss:0.102354\n",
            "[89]\ttrain-logloss:0.012431\teval-logloss:0.102065\n",
            "[90]\ttrain-logloss:0.012303\teval-logloss:0.101424\n",
            "[91]\ttrain-logloss:0.012155\teval-logloss:0.10146\n",
            "[92]\ttrain-logloss:0.011993\teval-logloss:0.101001\n",
            "[93]\ttrain-logloss:0.011873\teval-logloss:0.101263\n",
            "[94]\ttrain-logloss:0.011705\teval-logloss:0.10212\n",
            "[95]\ttrain-logloss:0.011606\teval-logloss:0.101455\n",
            "[96]\ttrain-logloss:0.011486\teval-logloss:0.101404\n",
            "[97]\ttrain-logloss:0.01139\teval-logloss:0.10092\n",
            "[98]\ttrain-logloss:0.011278\teval-logloss:0.101183\n",
            "[99]\ttrain-logloss:0.011189\teval-logloss:0.100552\n",
            "[100]\ttrain-logloss:0.011082\teval-logloss:0.100971\n",
            "[101]\ttrain-logloss:0.010983\teval-logloss:0.100755\n",
            "[102]\ttrain-logloss:0.010897\teval-logloss:0.100613\n",
            "[103]\ttrain-logloss:0.01079\teval-logloss:0.100587\n",
            "[104]\ttrain-logloss:0.010653\teval-logloss:0.10141\n",
            "[105]\ttrain-logloss:0.010539\teval-logloss:0.101457\n",
            "[106]\ttrain-logloss:0.010459\teval-logloss:0.101013\n",
            "[107]\ttrain-logloss:0.010398\teval-logloss:0.101018\n",
            "[108]\ttrain-logloss:0.010319\teval-logloss:0.100857\n",
            "[109]\ttrain-logloss:0.010217\teval-logloss:0.100908\n",
            "[110]\ttrain-logloss:0.010093\teval-logloss:0.101114\n",
            "[111]\ttrain-logloss:0.010004\teval-logloss:0.101359\n",
            "[112]\ttrain-logloss:0.009887\teval-logloss:0.102158\n",
            "[113]\ttrain-logloss:0.009814\teval-logloss:0.101547\n",
            "[114]\ttrain-logloss:0.009744\teval-logloss:0.101132\n",
            "[115]\ttrain-logloss:0.009662\teval-logloss:0.101135\n",
            "[116]\ttrain-logloss:0.009572\teval-logloss:0.10119\n",
            "[117]\ttrain-logloss:0.009536\teval-logloss:0.10109\n",
            "[118]\ttrain-logloss:0.009462\teval-logloss:0.100534\n",
            "[119]\ttrain-logloss:0.009351\teval-logloss:0.100158\n",
            "[120]\ttrain-logloss:0.009305\teval-logloss:0.100153\n",
            "[121]\ttrain-logloss:0.009223\teval-logloss:0.100206\n",
            "[122]\ttrain-logloss:0.009128\teval-logloss:0.100252\n",
            "[123]\ttrain-logloss:0.009069\teval-logloss:0.100122\n",
            "[124]\ttrain-logloss:0.009004\teval-logloss:0.099595\n",
            "[125]\ttrain-logloss:0.008972\teval-logloss:0.099515\n",
            "[126]\ttrain-logloss:0.00888\teval-logloss:0.09983\n",
            "[127]\ttrain-logloss:0.008795\teval-logloss:0.099885\n",
            "[128]\ttrain-logloss:0.008723\teval-logloss:0.099942\n",
            "[129]\ttrain-logloss:0.008694\teval-logloss:0.099864\n",
            "[130]\ttrain-logloss:0.008638\teval-logloss:0.099388\n",
            "[131]\ttrain-logloss:0.008609\teval-logloss:0.099316\n",
            "[132]\ttrain-logloss:0.008542\teval-logloss:0.099378\n",
            "[133]\ttrain-logloss:0.008473\teval-logloss:0.099825\n",
            "[134]\ttrain-logloss:0.008399\teval-logloss:0.09988\n",
            "[135]\ttrain-logloss:0.008351\teval-logloss:0.099761\n",
            "[136]\ttrain-logloss:0.008298\teval-logloss:0.099289\n",
            "[137]\ttrain-logloss:0.008273\teval-logloss:0.098993\n",
            "[138]\ttrain-logloss:0.008223\teval-logloss:0.099168\n",
            "[139]\ttrain-logloss:0.008198\teval-logloss:0.099105\n",
            "[140]\ttrain-logloss:0.008139\teval-logloss:0.099165\n",
            "[141]\ttrain-logloss:0.008074\teval-logloss:0.099231\n",
            "[142]\ttrain-logloss:0.008032\teval-logloss:0.099181\n",
            "[143]\ttrain-logloss:0.008007\teval-logloss:0.098887\n",
            "[144]\ttrain-logloss:0.007983\teval-logloss:0.099049\n",
            "[145]\ttrain-logloss:0.00794\teval-logloss:0.098942\n",
            "[146]\ttrain-logloss:0.007884\teval-logloss:0.099344\n",
            "[147]\ttrain-logloss:0.007847\teval-logloss:0.098922\n",
            "[148]\ttrain-logloss:0.007824\teval-logloss:0.098943\n",
            "[149]\ttrain-logloss:0.007802\teval-logloss:0.098667\n",
            "[150]\ttrain-logloss:0.00773\teval-logloss:0.099005\n",
            "[151]\ttrain-logloss:0.007692\teval-logloss:0.09896\n",
            "[152]\ttrain-logloss:0.007641\teval-logloss:0.09902\n",
            "[153]\ttrain-logloss:0.007619\teval-logloss:0.099026\n",
            "[154]\ttrain-logloss:0.007597\teval-logloss:0.098918\n",
            "[155]\ttrain-logloss:0.007533\teval-logloss:0.099603\n",
            "[156]\ttrain-logloss:0.007511\teval-logloss:0.099335\n",
            "[157]\ttrain-logloss:0.007491\teval-logloss:0.099493\n",
            "[158]\ttrain-logloss:0.007458\teval-logloss:0.099192\n",
            "[159]\ttrain-logloss:0.007411\teval-logloss:0.099091\n",
            "[160]\ttrain-logloss:0.007391\teval-logloss:0.099043\n",
            "[161]\ttrain-logloss:0.007372\teval-logloss:0.098787\n",
            "[162]\ttrain-logloss:0.007343\teval-logloss:0.098512\n",
            "[163]\ttrain-logloss:0.007322\teval-logloss:0.098597\n",
            "[164]\ttrain-logloss:0.007303\teval-logloss:0.098489\n",
            "[165]\ttrain-logloss:0.007284\teval-logloss:0.098509\n",
            "[166]\ttrain-logloss:0.007265\teval-logloss:0.098593\n",
            "[167]\ttrain-logloss:0.007246\teval-logloss:0.098151\n",
            "[168]\ttrain-logloss:0.007213\teval-logloss:0.097935\n",
            "[169]\ttrain-logloss:0.007195\teval-logloss:0.098088\n",
            "[170]\ttrain-logloss:0.007176\teval-logloss:0.097977\n",
            "[171]\ttrain-logloss:0.007158\teval-logloss:0.097668\n",
            "[172]\ttrain-logloss:0.00714\teval-logloss:0.097626\n",
            "[173]\ttrain-logloss:0.007122\teval-logloss:0.097521\n",
            "[174]\ttrain-logloss:0.007104\teval-logloss:0.097603\n",
            "[175]\ttrain-logloss:0.007085\teval-logloss:0.097494\n",
            "[176]\ttrain-logloss:0.007068\teval-logloss:0.097257\n",
            "[177]\ttrain-logloss:0.007051\teval-logloss:0.097408\n",
            "[178]\ttrain-logloss:0.007033\teval-logloss:0.097302\n",
            "[179]\ttrain-logloss:0.007016\teval-logloss:0.096887\n",
            "[180]\ttrain-logloss:0.006999\teval-logloss:0.09697\n",
            "[181]\ttrain-logloss:0.006981\teval-logloss:0.096866\n",
            "[182]\ttrain-logloss:0.006965\teval-logloss:0.096877\n",
            "[183]\ttrain-logloss:0.006948\teval-logloss:0.096956\n",
            "[184]\ttrain-logloss:0.006932\teval-logloss:0.096972\n",
            "[185]\ttrain-logloss:0.006915\teval-logloss:0.096562\n",
            "[186]\ttrain-logloss:0.006899\teval-logloss:0.096681\n",
            "[187]\ttrain-logloss:0.006883\teval-logloss:0.096825\n",
            "[188]\ttrain-logloss:0.006867\teval-logloss:0.096729\n",
            "[189]\ttrain-logloss:0.006851\teval-logloss:0.09669\n",
            "[190]\ttrain-logloss:0.006835\teval-logloss:0.096313\n",
            "[191]\ttrain-logloss:0.00682\teval-logloss:0.096333\n",
            "[192]\ttrain-logloss:0.006804\teval-logloss:0.096474\n",
            "[193]\ttrain-logloss:0.006789\teval-logloss:0.096485\n",
            "[194]\ttrain-logloss:0.006774\teval-logloss:0.096267\n",
            "[195]\ttrain-logloss:0.006759\teval-logloss:0.096342\n",
            "[196]\ttrain-logloss:0.006744\teval-logloss:0.096485\n",
            "[197]\ttrain-logloss:0.006729\teval-logloss:0.096507\n",
            "[198]\ttrain-logloss:0.006714\teval-logloss:0.096414\n",
            "[199]\ttrain-logloss:0.006699\teval-logloss:0.096488\n",
            "[200]\ttrain-logloss:0.006684\teval-logloss:0.096121\n",
            "[201]\ttrain-logloss:0.006669\teval-logloss:0.096079\n",
            "[202]\ttrain-logloss:0.006655\teval-logloss:0.095984\n",
            "[203]\ttrain-logloss:0.006641\teval-logloss:0.096056\n",
            "[204]\ttrain-logloss:0.006626\teval-logloss:0.096195\n",
            "[205]\ttrain-logloss:0.006612\teval-logloss:0.095841\n",
            "[206]\ttrain-logloss:0.006598\teval-logloss:0.095975\n",
            "[207]\ttrain-logloss:0.006584\teval-logloss:0.095882\n",
            "[208]\ttrain-logloss:0.006571\teval-logloss:0.095844\n",
            "[209]\ttrain-logloss:0.006557\teval-logloss:0.095637\n",
            "[210]\ttrain-logloss:0.006543\teval-logloss:0.095663\n",
            "[211]\ttrain-logloss:0.00653\teval-logloss:0.095685\n",
            "[212]\ttrain-logloss:0.006516\teval-logloss:0.095818\n",
            "[213]\ttrain-logloss:0.006503\teval-logloss:0.095476\n",
            "[214]\ttrain-logloss:0.00649\teval-logloss:0.095389\n",
            "[215]\ttrain-logloss:0.006477\teval-logloss:0.095351\n",
            "[216]\ttrain-logloss:0.006465\teval-logloss:0.09537\n",
            "[217]\ttrain-logloss:0.006451\teval-logloss:0.0955\n",
            "[218]\ttrain-logloss:0.006439\teval-logloss:0.095165\n",
            "[219]\ttrain-logloss:0.006426\teval-logloss:0.095081\n",
            "[220]\ttrain-logloss:0.006414\teval-logloss:0.095209\n",
            "[221]\ttrain-logloss:0.006401\teval-logloss:0.09507\n",
            "[222]\ttrain-logloss:0.006389\teval-logloss:0.094826\n",
            "[223]\ttrain-logloss:0.006377\teval-logloss:0.094856\n",
            "[224]\ttrain-logloss:0.006365\teval-logloss:0.094878\n",
            "[225]\ttrain-logloss:0.006353\teval-logloss:0.0949\n",
            "[226]\ttrain-logloss:0.006341\teval-logloss:0.094867\n",
            "[227]\ttrain-logloss:0.006329\teval-logloss:0.094879\n",
            "[228]\ttrain-logloss:0.006317\teval-logloss:0.095003\n",
            "[229]\ttrain-logloss:0.006306\teval-logloss:0.094683\n",
            "[230]\ttrain-logloss:0.006294\teval-logloss:0.094704\n",
            "[231]\ttrain-logloss:0.006282\teval-logloss:0.094724\n",
            "[232]\ttrain-logloss:0.006271\teval-logloss:0.094537\n",
            "[233]\ttrain-logloss:0.006259\teval-logloss:0.094569\n",
            "[234]\ttrain-logloss:0.006248\teval-logloss:0.094693\n",
            "[235]\ttrain-logloss:0.006237\teval-logloss:0.094718\n",
            "[236]\ttrain-logloss:0.006226\teval-logloss:0.094688\n",
            "[237]\ttrain-logloss:0.006215\teval-logloss:0.094709\n",
            "[238]\ttrain-logloss:0.006204\teval-logloss:0.094721\n",
            "[239]\ttrain-logloss:0.006193\teval-logloss:0.09454\n",
            "[240]\ttrain-logloss:0.006182\teval-logloss:0.094561\n",
            "[241]\ttrain-logloss:0.006172\teval-logloss:0.094594\n",
            "[242]\ttrain-logloss:0.006161\teval-logloss:0.094616\n",
            "[243]\ttrain-logloss:0.00615\teval-logloss:0.094292\n",
            "[244]\ttrain-logloss:0.006139\teval-logloss:0.094414\n",
            "[245]\ttrain-logloss:0.006129\teval-logloss:0.094275\n",
            "[246]\ttrain-logloss:0.006119\teval-logloss:0.094394\n",
            "[247]\ttrain-logloss:0.006109\teval-logloss:0.094416\n",
            "[248]\ttrain-logloss:0.006098\teval-logloss:0.094389\n",
            "[249]\ttrain-logloss:0.006088\teval-logloss:0.094098\n",
            "[250]\ttrain-logloss:0.006078\teval-logloss:0.094119\n",
            "[251]\ttrain-logloss:0.006068\teval-logloss:0.09413\n",
            "[252]\ttrain-logloss:0.006058\teval-logloss:0.093959\n",
            "[253]\ttrain-logloss:0.006048\teval-logloss:0.094076\n",
            "[254]\ttrain-logloss:0.006038\teval-logloss:0.093938\n",
            "[255]\ttrain-logloss:0.006029\teval-logloss:0.093971\n",
            "[256]\ttrain-logloss:0.006019\teval-logloss:0.093993\n",
            "[257]\ttrain-logloss:0.006009\teval-logloss:0.094082\n",
            "[258]\ttrain-logloss:0.005999\teval-logloss:0.094106\n",
            "[259]\ttrain-logloss:0.005989\teval-logloss:0.094221\n",
            "[260]\ttrain-logloss:0.00598\teval-logloss:0.094256\n",
            "[261]\ttrain-logloss:0.005971\teval-logloss:0.09409\n",
            "[262]\ttrain-logloss:0.005961\teval-logloss:0.094113\n",
            "[263]\ttrain-logloss:0.005952\teval-logloss:0.09409\n",
            "[264]\ttrain-logloss:0.005942\teval-logloss:0.093959\n",
            "[265]\ttrain-logloss:0.005933\teval-logloss:0.094072\n",
            "[266]\ttrain-logloss:0.005924\teval-logloss:0.094098\n",
            "[267]\ttrain-logloss:0.005915\teval-logloss:0.093821\n",
            "[268]\ttrain-logloss:0.005906\teval-logloss:0.09362\n",
            "[269]\ttrain-logloss:0.005896\teval-logloss:0.093734\n",
            "[270]\ttrain-logloss:0.005887\teval-logloss:0.093746\n",
            "[271]\ttrain-logloss:0.005878\teval-logloss:0.093767\n",
            "[272]\ttrain-logloss:0.005869\teval-logloss:0.09364\n",
            "[273]\ttrain-logloss:0.005861\teval-logloss:0.093751\n",
            "[274]\ttrain-logloss:0.005852\teval-logloss:0.093461\n",
            "[275]\ttrain-logloss:0.005843\teval-logloss:0.093546\n",
            "[276]\ttrain-logloss:0.005834\teval-logloss:0.093573\n",
            "[277]\ttrain-logloss:0.005826\teval-logloss:0.093595\n",
            "[278]\ttrain-logloss:0.005817\teval-logloss:0.093573\n",
            "[279]\ttrain-logloss:0.005809\teval-logloss:0.093552\n",
            "[280]\ttrain-logloss:0.0058\teval-logloss:0.093293\n",
            "[281]\ttrain-logloss:0.005792\teval-logloss:0.09332\n",
            "[282]\ttrain-logloss:0.005783\teval-logloss:0.093429\n",
            "[283]\ttrain-logloss:0.005775\teval-logloss:0.093307\n",
            "[284]\ttrain-logloss:0.005767\teval-logloss:0.093414\n",
            "[285]\ttrain-logloss:0.005759\teval-logloss:0.093413\n",
            "[286]\ttrain-logloss:0.00575\teval-logloss:0.093392\n",
            "[287]\ttrain-logloss:0.005742\teval-logloss:0.093472\n",
            "[288]\ttrain-logloss:0.005734\teval-logloss:0.093217\n",
            "[289]\ttrain-logloss:0.005726\teval-logloss:0.093244\n",
            "[290]\ttrain-logloss:0.005718\teval-logloss:0.093265\n",
            "[291]\ttrain-logloss:0.00571\teval-logloss:0.093245\n",
            "[292]\ttrain-logloss:0.005702\teval-logloss:0.093241\n",
            "[293]\ttrain-logloss:0.005695\teval-logloss:0.093222\n",
            "[294]\ttrain-logloss:0.005687\teval-logloss:0.093102\n",
            "[295]\ttrain-logloss:0.005679\teval-logloss:0.093206\n",
            "[296]\ttrain-logloss:0.005671\teval-logloss:0.093232\n",
            "[297]\ttrain-logloss:0.005664\teval-logloss:0.092961\n",
            "[298]\ttrain-logloss:0.005656\teval-logloss:0.093063\n",
            "[299]\ttrain-logloss:0.005649\teval-logloss:0.092944\n",
            "[300]\ttrain-logloss:0.005641\teval-logloss:0.092945\n",
            "[301]\ttrain-logloss:0.005634\teval-logloss:0.092971\n",
            "[302]\ttrain-logloss:0.005626\teval-logloss:0.093072\n",
            "[303]\ttrain-logloss:0.005619\teval-logloss:0.093053\n",
            "[304]\ttrain-logloss:0.005611\teval-logloss:0.093052\n",
            "[305]\ttrain-logloss:0.005604\teval-logloss:0.092791\n",
            "[306]\ttrain-logloss:0.005597\teval-logloss:0.092817\n",
            "[307]\ttrain-logloss:0.00559\teval-logloss:0.092799\n",
            "[308]\ttrain-logloss:0.005582\teval-logloss:0.092794\n",
            "[309]\ttrain-logloss:0.005575\teval-logloss:0.092723\n",
            "[310]\ttrain-logloss:0.005568\teval-logloss:0.092724\n",
            "[311]\ttrain-logloss:0.005561\teval-logloss:0.092744\n",
            "[312]\ttrain-logloss:0.005554\teval-logloss:0.092511\n",
            "[313]\ttrain-logloss:0.005547\teval-logloss:0.092538\n",
            "[314]\ttrain-logloss:0.00554\teval-logloss:0.092639\n",
            "[315]\ttrain-logloss:0.005533\teval-logloss:0.092622\n",
            "[316]\ttrain-logloss:0.005526\teval-logloss:0.09251\n",
            "[317]\ttrain-logloss:0.005519\teval-logloss:0.092609\n",
            "[318]\ttrain-logloss:0.005513\teval-logloss:0.092499\n",
            "[319]\ttrain-logloss:0.005506\teval-logloss:0.092496\n",
            "[320]\ttrain-logloss:0.005499\teval-logloss:0.09248\n",
            "[321]\ttrain-logloss:0.005493\teval-logloss:0.092234\n",
            "[322]\ttrain-logloss:0.005486\teval-logloss:0.09233\n",
            "[323]\ttrain-logloss:0.005479\teval-logloss:0.092218\n",
            "[324]\ttrain-logloss:0.005473\teval-logloss:0.092202\n",
            "[325]\ttrain-logloss:0.005466\teval-logloss:0.092223\n",
            "[326]\ttrain-logloss:0.00546\teval-logloss:0.092249\n",
            "[327]\ttrain-logloss:0.005454\teval-logloss:0.092343\n",
            "[328]\ttrain-logloss:0.005448\teval-logloss:0.092236\n",
            "[329]\ttrain-logloss:0.005441\teval-logloss:0.092234\n",
            "[330]\ttrain-logloss:0.005435\teval-logloss:0.092237\n",
            "[331]\ttrain-logloss:0.005429\teval-logloss:0.092221\n",
            "[332]\ttrain-logloss:0.005423\teval-logloss:0.091984\n",
            "[333]\ttrain-logloss:0.005417\teval-logloss:0.092077\n",
            "[334]\ttrain-logloss:0.00541\teval-logloss:0.091971\n",
            "[335]\ttrain-logloss:0.005404\teval-logloss:0.09197\n",
            "[336]\ttrain-logloss:0.005399\teval-logloss:0.091867\n",
            "[337]\ttrain-logloss:0.005392\teval-logloss:0.09196\n",
            "[338]\ttrain-logloss:0.005387\teval-logloss:0.091964\n",
            "[339]\ttrain-logloss:0.005381\teval-logloss:0.091862\n",
            "[340]\ttrain-logloss:0.005375\teval-logloss:0.091954\n",
            "[341]\ttrain-logloss:0.005369\teval-logloss:0.091823\n",
            "[342]\ttrain-logloss:0.005364\teval-logloss:0.091809\n",
            "[343]\ttrain-logloss:0.005358\teval-logloss:0.09183\n",
            "[344]\ttrain-logloss:0.005352\teval-logloss:0.091729\n",
            "[345]\ttrain-logloss:0.005346\teval-logloss:0.091819\n",
            "[346]\ttrain-logloss:0.005341\teval-logloss:0.091615\n",
            "[347]\ttrain-logloss:0.005336\teval-logloss:0.091637\n",
            "[348]\ttrain-logloss:0.00533\teval-logloss:0.091624\n",
            "[349]\ttrain-logloss:0.005324\teval-logloss:0.091624\n",
            "[350]\ttrain-logloss:0.005319\teval-logloss:0.09163\n",
            "[351]\ttrain-logloss:0.005314\teval-logloss:0.091532\n",
            "[352]\ttrain-logloss:0.005308\teval-logloss:0.091623\n",
            "[353]\ttrain-logloss:0.005303\teval-logloss:0.091644\n",
            "[354]\ttrain-logloss:0.005297\teval-logloss:0.091665\n",
            "[355]\ttrain-logloss:0.005292\teval-logloss:0.091652\n",
            "[356]\ttrain-logloss:0.005287\teval-logloss:0.091434\n",
            "[357]\ttrain-logloss:0.005281\teval-logloss:0.091522\n",
            "[358]\ttrain-logloss:0.005276\teval-logloss:0.091424\n",
            "[359]\ttrain-logloss:0.005271\teval-logloss:0.091426\n",
            "[360]\ttrain-logloss:0.005266\teval-logloss:0.091432\n",
            "[361]\ttrain-logloss:0.005261\teval-logloss:0.091454\n",
            "[362]\ttrain-logloss:0.005256\teval-logloss:0.091442\n",
            "[363]\ttrain-logloss:0.00525\teval-logloss:0.091529\n",
            "[364]\ttrain-logloss:0.005245\teval-logloss:0.091432\n",
            "[365]\ttrain-logloss:0.00524\teval-logloss:0.091434\n",
            "[366]\ttrain-logloss:0.005235\teval-logloss:0.091304\n",
            "[367]\ttrain-logloss:0.00523\teval-logloss:0.091292\n",
            "[368]\ttrain-logloss:0.005226\teval-logloss:0.091084\n",
            "[369]\ttrain-logloss:0.005221\teval-logloss:0.091169\n",
            "[370]\ttrain-logloss:0.005215\teval-logloss:0.091192\n",
            "[371]\ttrain-logloss:0.005211\teval-logloss:0.091199\n",
            "[372]\ttrain-logloss:0.005206\teval-logloss:0.091105\n",
            "[373]\ttrain-logloss:0.005201\teval-logloss:0.091191\n",
            "[374]\ttrain-logloss:0.005196\teval-logloss:0.091193\n",
            "[375]\ttrain-logloss:0.005191\teval-logloss:0.091099\n",
            "[376]\ttrain-logloss:0.005187\teval-logloss:0.091181\n",
            "[377]\ttrain-logloss:0.005182\teval-logloss:0.091203\n",
            "[378]\ttrain-logloss:0.005177\teval-logloss:0.091192\n",
            "[379]\ttrain-logloss:0.005172\teval-logloss:0.091199\n",
            "[380]\ttrain-logloss:0.005168\teval-logloss:0.091201\n",
            "[381]\ttrain-logloss:0.005163\teval-logloss:0.09111\n",
            "[382]\ttrain-logloss:0.005159\teval-logloss:0.091192\n",
            "[383]\ttrain-logloss:0.005154\teval-logloss:0.091213\n",
            "[384]\ttrain-logloss:0.00515\teval-logloss:0.091011\n",
            "[385]\ttrain-logloss:0.005145\teval-logloss:0.091\n",
            "[386]\ttrain-logloss:0.005141\teval-logloss:0.091002\n",
            "[387]\ttrain-logloss:0.005136\teval-logloss:0.09101\n",
            "[388]\ttrain-logloss:0.005132\teval-logloss:0.091032\n",
            "[389]\ttrain-logloss:0.005127\teval-logloss:0.091113\n",
            "[390]\ttrain-logloss:0.005123\teval-logloss:0.091023\n",
            "[391]\ttrain-logloss:0.005119\teval-logloss:0.091103\n",
            "[392]\ttrain-logloss:0.005114\teval-logloss:0.091013\n",
            "[393]\ttrain-logloss:0.00511\teval-logloss:0.090818\n",
            "[394]\ttrain-logloss:0.005106\teval-logloss:0.090897\n",
            "[395]\ttrain-logloss:0.005101\teval-logloss:0.090919\n",
            "[396]\ttrain-logloss:0.005097\teval-logloss:0.090909\n",
            "[397]\ttrain-logloss:0.005093\teval-logloss:0.090911\n",
            "[398]\ttrain-logloss:0.005089\teval-logloss:0.090919\n",
            "[399]\ttrain-logloss:0.005084\teval-logloss:0.090833\n"
          ]
        }
      ]
    },
    {
      "cell_type": "code",
      "source": [
        "#예측\n",
        "pred_probs = xgb_model.predict(dtest)\n",
        "#확률 출력\n",
        "print(np.round(pred_probs[:10], 3))"
      ],
      "metadata": {
        "colab": {
          "base_uri": "https://localhost:8080/"
        },
        "id": "AmYjPue8w0zf",
        "outputId": "a5e36790-41f9-450c-d4fc-bf75df1c1eb0"
      },
      "execution_count": 35,
      "outputs": [
        {
          "output_type": "stream",
          "name": "stdout",
          "text": [
            "[0.995 0.    0.    1.    1.    0.    0.001 0.065 0.346 1.   ]\n"
          ]
        }
      ]
    },
    {
      "cell_type": "code",
      "source": [
        "#확률을 0.5를 기준으로 예측 값을 결정\n",
        "preds = [1 if x > 0.5 else 0 for x in pred_probs]\n",
        "print(preds[:10])\n",
        "print(y_test[:10])"
      ],
      "metadata": {
        "colab": {
          "base_uri": "https://localhost:8080/"
        },
        "id": "Ui33TEZwxiG0",
        "outputId": "6e46e580-a82a-4d5b-d2e5-3c502483efb1"
      },
      "execution_count": 36,
      "outputs": [
        {
          "output_type": "stream",
          "name": "stdout",
          "text": [
            "[1, 0, 0, 1, 1, 0, 0, 0, 0, 1]\n",
            "[1 0 0 1 1 0 0 0 1 1]\n"
          ]
        }
      ]
    },
    {
      "cell_type": "code",
      "source": [
        "#평가 지표 확인\n",
        "from sklearn.metrics import confusion_matrix, accuracy_score\n",
        "from sklearn.metrics import precision_score, recall_score\n",
        "from sklearn.metrics import f1_score, roc_auc_score\n",
        "\n",
        "print('오차 행렬 :', confusion_matrix(y_test, preds))\n",
        "print('정확도 :', accuracy_score(y_test, preds))\n",
        "print('정밀도 :', precision_score(y_test, preds))\n",
        "print('재현율 :', recall_score(y_test, preds))\n",
        "print('f1_score :', f1_score(y_test, preds))\n",
        "print('roc_auc_score :', roc_auc_score(y_test, preds))\n"
      ],
      "metadata": {
        "colab": {
          "base_uri": "https://localhost:8080/"
        },
        "id": "DBhEdCl4yhpJ",
        "outputId": "21f20e34-c8ac-4541-804e-2d80595b1e39"
      },
      "execution_count": 37,
      "outputs": [
        {
          "output_type": "stream",
          "name": "stdout",
          "text": [
            "오차 행렬 : [[41  2]\n",
            " [ 1 70]]\n",
            "정확도 : 0.9736842105263158\n",
            "정밀도 : 0.9722222222222222\n",
            "재현율 : 0.9859154929577465\n",
            "f1_score : 0.979020979020979\n",
            "roc_auc_score : 0.969701932525385\n"
          ]
        }
      ]
    },
    {
      "cell_type": "markdown",
      "source": [
        "### Light(LGBM)를 유방암 데이터 분류"
      ],
      "metadata": {
        "id": "r3R3CTUi9mHu"
      }
    },
    {
      "cell_type": "code",
      "source": [
        "#모델 생성\n",
        "from lightgbm import LGBMClassifier\n",
        "lgbm_wrapper = LGBMClassifier(n_estimators=400)\n"
      ],
      "metadata": {
        "id": "8Q42t-UB9lTH"
      },
      "execution_count": 38,
      "outputs": []
    },
    {
      "cell_type": "code",
      "source": [
        "#평가 데이터를 설정하고 모델 훈련\n",
        "evals = [(X_test, y_test)]\n",
        "\n",
        "lgbm_wrapper.fit(X_train, y_train, early_stopping_rounds=100,\n",
        "                 eval_metric='logloss', eval_set=evals, verbose=True)"
      ],
      "metadata": {
        "colab": {
          "base_uri": "https://localhost:8080/"
        },
        "id": "9l2iIrz0-U7O",
        "outputId": "f802fbe9-c1c9-4c9c-867b-54e8b5bc66a6"
      },
      "execution_count": 39,
      "outputs": [
        {
          "output_type": "stream",
          "name": "stdout",
          "text": [
            "[1]\tvalid_0's binary_logloss: 0.587533\tvalid_0's binary_logloss: 0.587533\n",
            "Training until validation scores don't improve for 100 rounds.\n",
            "[2]\tvalid_0's binary_logloss: 0.52449\tvalid_0's binary_logloss: 0.52449\n",
            "[3]\tvalid_0's binary_logloss: 0.472657\tvalid_0's binary_logloss: 0.472657\n",
            "[4]\tvalid_0's binary_logloss: 0.432004\tvalid_0's binary_logloss: 0.432004\n",
            "[5]\tvalid_0's binary_logloss: 0.391511\tvalid_0's binary_logloss: 0.391511\n",
            "[6]\tvalid_0's binary_logloss: 0.357212\tvalid_0's binary_logloss: 0.357212\n",
            "[7]\tvalid_0's binary_logloss: 0.329036\tvalid_0's binary_logloss: 0.329036\n",
            "[8]\tvalid_0's binary_logloss: 0.302392\tvalid_0's binary_logloss: 0.302392\n",
            "[9]\tvalid_0's binary_logloss: 0.281315\tvalid_0's binary_logloss: 0.281315\n",
            "[10]\tvalid_0's binary_logloss: 0.26363\tvalid_0's binary_logloss: 0.26363\n",
            "[11]\tvalid_0's binary_logloss: 0.247288\tvalid_0's binary_logloss: 0.247288\n",
            "[12]\tvalid_0's binary_logloss: 0.228944\tvalid_0's binary_logloss: 0.228944\n",
            "[13]\tvalid_0's binary_logloss: 0.216059\tvalid_0's binary_logloss: 0.216059\n",
            "[14]\tvalid_0's binary_logloss: 0.20322\tvalid_0's binary_logloss: 0.20322\n",
            "[15]\tvalid_0's binary_logloss: 0.191265\tvalid_0's binary_logloss: 0.191265\n",
            "[16]\tvalid_0's binary_logloss: 0.183542\tvalid_0's binary_logloss: 0.183542\n",
            "[17]\tvalid_0's binary_logloss: 0.176734\tvalid_0's binary_logloss: 0.176734\n",
            "[18]\tvalid_0's binary_logloss: 0.169192\tvalid_0's binary_logloss: 0.169192\n",
            "[19]\tvalid_0's binary_logloss: 0.163594\tvalid_0's binary_logloss: 0.163594\n",
            "[20]\tvalid_0's binary_logloss: 0.15889\tvalid_0's binary_logloss: 0.15889\n",
            "[21]\tvalid_0's binary_logloss: 0.15117\tvalid_0's binary_logloss: 0.15117\n",
            "[22]\tvalid_0's binary_logloss: 0.145575\tvalid_0's binary_logloss: 0.145575\n",
            "[23]\tvalid_0's binary_logloss: 0.14345\tvalid_0's binary_logloss: 0.14345\n",
            "[24]\tvalid_0's binary_logloss: 0.139226\tvalid_0's binary_logloss: 0.139226\n",
            "[25]\tvalid_0's binary_logloss: 0.136512\tvalid_0's binary_logloss: 0.136512\n",
            "[26]\tvalid_0's binary_logloss: 0.134276\tvalid_0's binary_logloss: 0.134276\n",
            "[27]\tvalid_0's binary_logloss: 0.130727\tvalid_0's binary_logloss: 0.130727\n",
            "[28]\tvalid_0's binary_logloss: 0.129139\tvalid_0's binary_logloss: 0.129139\n",
            "[29]\tvalid_0's binary_logloss: 0.127805\tvalid_0's binary_logloss: 0.127805\n",
            "[30]\tvalid_0's binary_logloss: 0.126526\tvalid_0's binary_logloss: 0.126526\n",
            "[31]\tvalid_0's binary_logloss: 0.121862\tvalid_0's binary_logloss: 0.121862\n",
            "[32]\tvalid_0's binary_logloss: 0.118273\tvalid_0's binary_logloss: 0.118273\n",
            "[33]\tvalid_0's binary_logloss: 0.117329\tvalid_0's binary_logloss: 0.117329\n",
            "[34]\tvalid_0's binary_logloss: 0.116677\tvalid_0's binary_logloss: 0.116677\n",
            "[35]\tvalid_0's binary_logloss: 0.114272\tvalid_0's binary_logloss: 0.114272\n",
            "[36]\tvalid_0's binary_logloss: 0.114887\tvalid_0's binary_logloss: 0.114887\n",
            "[37]\tvalid_0's binary_logloss: 0.112313\tvalid_0's binary_logloss: 0.112313\n",
            "[38]\tvalid_0's binary_logloss: 0.110155\tvalid_0's binary_logloss: 0.110155\n",
            "[39]\tvalid_0's binary_logloss: 0.110745\tvalid_0's binary_logloss: 0.110745\n",
            "[40]\tvalid_0's binary_logloss: 0.111618\tvalid_0's binary_logloss: 0.111618\n",
            "[41]\tvalid_0's binary_logloss: 0.112575\tvalid_0's binary_logloss: 0.112575\n",
            "[42]\tvalid_0's binary_logloss: 0.111203\tvalid_0's binary_logloss: 0.111203\n",
            "[43]\tvalid_0's binary_logloss: 0.111088\tvalid_0's binary_logloss: 0.111088\n",
            "[44]\tvalid_0's binary_logloss: 0.108022\tvalid_0's binary_logloss: 0.108022\n",
            "[45]\tvalid_0's binary_logloss: 0.105272\tvalid_0's binary_logloss: 0.105272\n",
            "[46]\tvalid_0's binary_logloss: 0.104307\tvalid_0's binary_logloss: 0.104307\n",
            "[47]\tvalid_0's binary_logloss: 0.106358\tvalid_0's binary_logloss: 0.106358\n",
            "[48]\tvalid_0's binary_logloss: 0.106191\tvalid_0's binary_logloss: 0.106191\n",
            "[49]\tvalid_0's binary_logloss: 0.10613\tvalid_0's binary_logloss: 0.10613\n",
            "[50]\tvalid_0's binary_logloss: 0.106197\tvalid_0's binary_logloss: 0.106197\n",
            "[51]\tvalid_0's binary_logloss: 0.108441\tvalid_0's binary_logloss: 0.108441\n",
            "[52]\tvalid_0's binary_logloss: 0.108472\tvalid_0's binary_logloss: 0.108472\n",
            "[53]\tvalid_0's binary_logloss: 0.110498\tvalid_0's binary_logloss: 0.110498\n",
            "[54]\tvalid_0's binary_logloss: 0.110299\tvalid_0's binary_logloss: 0.110299\n",
            "[55]\tvalid_0's binary_logloss: 0.11116\tvalid_0's binary_logloss: 0.11116\n",
            "[56]\tvalid_0's binary_logloss: 0.110405\tvalid_0's binary_logloss: 0.110405\n",
            "[57]\tvalid_0's binary_logloss: 0.109252\tvalid_0's binary_logloss: 0.109252\n",
            "[58]\tvalid_0's binary_logloss: 0.108488\tvalid_0's binary_logloss: 0.108488\n",
            "[59]\tvalid_0's binary_logloss: 0.106548\tvalid_0's binary_logloss: 0.106548\n",
            "[60]\tvalid_0's binary_logloss: 0.102462\tvalid_0's binary_logloss: 0.102462\n",
            "[61]\tvalid_0's binary_logloss: 0.102036\tvalid_0's binary_logloss: 0.102036\n",
            "[62]\tvalid_0's binary_logloss: 0.102421\tvalid_0's binary_logloss: 0.102421\n",
            "[63]\tvalid_0's binary_logloss: 0.10417\tvalid_0's binary_logloss: 0.10417\n",
            "[64]\tvalid_0's binary_logloss: 0.100705\tvalid_0's binary_logloss: 0.100705\n",
            "[65]\tvalid_0's binary_logloss: 0.102273\tvalid_0's binary_logloss: 0.102273\n",
            "[66]\tvalid_0's binary_logloss: 0.101446\tvalid_0's binary_logloss: 0.101446\n",
            "[67]\tvalid_0's binary_logloss: 0.102765\tvalid_0's binary_logloss: 0.102765\n",
            "[68]\tvalid_0's binary_logloss: 0.102572\tvalid_0's binary_logloss: 0.102572\n",
            "[69]\tvalid_0's binary_logloss: 0.101988\tvalid_0's binary_logloss: 0.101988\n",
            "[70]\tvalid_0's binary_logloss: 0.103777\tvalid_0's binary_logloss: 0.103777\n",
            "[71]\tvalid_0's binary_logloss: 0.105553\tvalid_0's binary_logloss: 0.105553\n",
            "[72]\tvalid_0's binary_logloss: 0.106676\tvalid_0's binary_logloss: 0.106676\n",
            "[73]\tvalid_0's binary_logloss: 0.10713\tvalid_0's binary_logloss: 0.10713\n",
            "[74]\tvalid_0's binary_logloss: 0.108084\tvalid_0's binary_logloss: 0.108084\n",
            "[75]\tvalid_0's binary_logloss: 0.109466\tvalid_0's binary_logloss: 0.109466\n",
            "[76]\tvalid_0's binary_logloss: 0.111956\tvalid_0's binary_logloss: 0.111956\n",
            "[77]\tvalid_0's binary_logloss: 0.11249\tvalid_0's binary_logloss: 0.11249\n",
            "[78]\tvalid_0's binary_logloss: 0.112845\tvalid_0's binary_logloss: 0.112845\n",
            "[79]\tvalid_0's binary_logloss: 0.113329\tvalid_0's binary_logloss: 0.113329\n",
            "[80]\tvalid_0's binary_logloss: 0.112711\tvalid_0's binary_logloss: 0.112711\n",
            "[81]\tvalid_0's binary_logloss: 0.113283\tvalid_0's binary_logloss: 0.113283\n",
            "[82]\tvalid_0's binary_logloss: 0.11491\tvalid_0's binary_logloss: 0.11491\n",
            "[83]\tvalid_0's binary_logloss: 0.116764\tvalid_0's binary_logloss: 0.116764\n",
            "[84]\tvalid_0's binary_logloss: 0.116735\tvalid_0's binary_logloss: 0.116735\n",
            "[85]\tvalid_0's binary_logloss: 0.113746\tvalid_0's binary_logloss: 0.113746\n",
            "[86]\tvalid_0's binary_logloss: 0.11338\tvalid_0's binary_logloss: 0.11338\n",
            "[87]\tvalid_0's binary_logloss: 0.113994\tvalid_0's binary_logloss: 0.113994\n",
            "[88]\tvalid_0's binary_logloss: 0.115871\tvalid_0's binary_logloss: 0.115871\n",
            "[89]\tvalid_0's binary_logloss: 0.116454\tvalid_0's binary_logloss: 0.116454\n",
            "[90]\tvalid_0's binary_logloss: 0.116244\tvalid_0's binary_logloss: 0.116244\n",
            "[91]\tvalid_0's binary_logloss: 0.115296\tvalid_0's binary_logloss: 0.115296\n",
            "[92]\tvalid_0's binary_logloss: 0.116589\tvalid_0's binary_logloss: 0.116589\n",
            "[93]\tvalid_0's binary_logloss: 0.116622\tvalid_0's binary_logloss: 0.116622\n",
            "[94]\tvalid_0's binary_logloss: 0.114732\tvalid_0's binary_logloss: 0.114732\n",
            "[95]\tvalid_0's binary_logloss: 0.11597\tvalid_0's binary_logloss: 0.11597\n",
            "[96]\tvalid_0's binary_logloss: 0.117772\tvalid_0's binary_logloss: 0.117772\n",
            "[97]\tvalid_0's binary_logloss: 0.116962\tvalid_0's binary_logloss: 0.116962\n",
            "[98]\tvalid_0's binary_logloss: 0.114027\tvalid_0's binary_logloss: 0.114027\n",
            "[99]\tvalid_0's binary_logloss: 0.115133\tvalid_0's binary_logloss: 0.115133\n",
            "[100]\tvalid_0's binary_logloss: 0.117025\tvalid_0's binary_logloss: 0.117025\n",
            "[101]\tvalid_0's binary_logloss: 0.117513\tvalid_0's binary_logloss: 0.117513\n",
            "[102]\tvalid_0's binary_logloss: 0.12038\tvalid_0's binary_logloss: 0.12038\n",
            "[103]\tvalid_0's binary_logloss: 0.120279\tvalid_0's binary_logloss: 0.120279\n",
            "[104]\tvalid_0's binary_logloss: 0.120592\tvalid_0's binary_logloss: 0.120592\n",
            "[105]\tvalid_0's binary_logloss: 0.120977\tvalid_0's binary_logloss: 0.120977\n",
            "[106]\tvalid_0's binary_logloss: 0.122898\tvalid_0's binary_logloss: 0.122898\n",
            "[107]\tvalid_0's binary_logloss: 0.120551\tvalid_0's binary_logloss: 0.120551\n",
            "[108]\tvalid_0's binary_logloss: 0.12116\tvalid_0's binary_logloss: 0.12116\n",
            "[109]\tvalid_0's binary_logloss: 0.121747\tvalid_0's binary_logloss: 0.121747\n",
            "[110]\tvalid_0's binary_logloss: 0.122146\tvalid_0's binary_logloss: 0.122146\n",
            "[111]\tvalid_0's binary_logloss: 0.122584\tvalid_0's binary_logloss: 0.122584\n",
            "[112]\tvalid_0's binary_logloss: 0.125055\tvalid_0's binary_logloss: 0.125055\n",
            "[113]\tvalid_0's binary_logloss: 0.125049\tvalid_0's binary_logloss: 0.125049\n",
            "[114]\tvalid_0's binary_logloss: 0.1226\tvalid_0's binary_logloss: 0.1226\n",
            "[115]\tvalid_0's binary_logloss: 0.124944\tvalid_0's binary_logloss: 0.124944\n",
            "[116]\tvalid_0's binary_logloss: 0.12707\tvalid_0's binary_logloss: 0.12707\n",
            "[117]\tvalid_0's binary_logloss: 0.129664\tvalid_0's binary_logloss: 0.129664\n",
            "[118]\tvalid_0's binary_logloss: 0.127943\tvalid_0's binary_logloss: 0.127943\n",
            "[119]\tvalid_0's binary_logloss: 0.129804\tvalid_0's binary_logloss: 0.129804\n",
            "[120]\tvalid_0's binary_logloss: 0.129623\tvalid_0's binary_logloss: 0.129623\n",
            "[121]\tvalid_0's binary_logloss: 0.131312\tvalid_0's binary_logloss: 0.131312\n",
            "[122]\tvalid_0's binary_logloss: 0.128887\tvalid_0's binary_logloss: 0.128887\n",
            "[123]\tvalid_0's binary_logloss: 0.131178\tvalid_0's binary_logloss: 0.131178\n",
            "[124]\tvalid_0's binary_logloss: 0.131066\tvalid_0's binary_logloss: 0.131066\n",
            "[125]\tvalid_0's binary_logloss: 0.133639\tvalid_0's binary_logloss: 0.133639\n",
            "[126]\tvalid_0's binary_logloss: 0.135041\tvalid_0's binary_logloss: 0.135041\n",
            "[127]\tvalid_0's binary_logloss: 0.137511\tvalid_0's binary_logloss: 0.137511\n",
            "[128]\tvalid_0's binary_logloss: 0.138219\tvalid_0's binary_logloss: 0.138219\n",
            "[129]\tvalid_0's binary_logloss: 0.138401\tvalid_0's binary_logloss: 0.138401\n",
            "[130]\tvalid_0's binary_logloss: 0.138511\tvalid_0's binary_logloss: 0.138511\n",
            "[131]\tvalid_0's binary_logloss: 0.140472\tvalid_0's binary_logloss: 0.140472\n",
            "[132]\tvalid_0's binary_logloss: 0.13887\tvalid_0's binary_logloss: 0.13887\n",
            "[133]\tvalid_0's binary_logloss: 0.137519\tvalid_0's binary_logloss: 0.137519\n",
            "[134]\tvalid_0's binary_logloss: 0.140039\tvalid_0's binary_logloss: 0.140039\n",
            "[135]\tvalid_0's binary_logloss: 0.14233\tvalid_0's binary_logloss: 0.14233\n",
            "[136]\tvalid_0's binary_logloss: 0.143281\tvalid_0's binary_logloss: 0.143281\n",
            "[137]\tvalid_0's binary_logloss: 0.142658\tvalid_0's binary_logloss: 0.142658\n",
            "[138]\tvalid_0's binary_logloss: 0.141787\tvalid_0's binary_logloss: 0.141787\n",
            "[139]\tvalid_0's binary_logloss: 0.143166\tvalid_0's binary_logloss: 0.143166\n",
            "[140]\tvalid_0's binary_logloss: 0.143652\tvalid_0's binary_logloss: 0.143652\n",
            "[141]\tvalid_0's binary_logloss: 0.144436\tvalid_0's binary_logloss: 0.144436\n",
            "[142]\tvalid_0's binary_logloss: 0.145137\tvalid_0's binary_logloss: 0.145137\n",
            "[143]\tvalid_0's binary_logloss: 0.147552\tvalid_0's binary_logloss: 0.147552\n",
            "[144]\tvalid_0's binary_logloss: 0.148448\tvalid_0's binary_logloss: 0.148448\n",
            "[145]\tvalid_0's binary_logloss: 0.150525\tvalid_0's binary_logloss: 0.150525\n",
            "[146]\tvalid_0's binary_logloss: 0.149131\tvalid_0's binary_logloss: 0.149131\n",
            "[147]\tvalid_0's binary_logloss: 0.150129\tvalid_0's binary_logloss: 0.150129\n",
            "[148]\tvalid_0's binary_logloss: 0.150765\tvalid_0's binary_logloss: 0.150765\n",
            "[149]\tvalid_0's binary_logloss: 0.152938\tvalid_0's binary_logloss: 0.152938\n",
            "[150]\tvalid_0's binary_logloss: 0.155103\tvalid_0's binary_logloss: 0.155103\n",
            "[151]\tvalid_0's binary_logloss: 0.155593\tvalid_0's binary_logloss: 0.155593\n",
            "[152]\tvalid_0's binary_logloss: 0.156839\tvalid_0's binary_logloss: 0.156839\n",
            "[153]\tvalid_0's binary_logloss: 0.154395\tvalid_0's binary_logloss: 0.154395\n",
            "[154]\tvalid_0's binary_logloss: 0.155073\tvalid_0's binary_logloss: 0.155073\n",
            "[155]\tvalid_0's binary_logloss: 0.155104\tvalid_0's binary_logloss: 0.155104\n",
            "[156]\tvalid_0's binary_logloss: 0.156496\tvalid_0's binary_logloss: 0.156496\n",
            "[157]\tvalid_0's binary_logloss: 0.158591\tvalid_0's binary_logloss: 0.158591\n",
            "[158]\tvalid_0's binary_logloss: 0.156737\tvalid_0's binary_logloss: 0.156737\n",
            "[159]\tvalid_0's binary_logloss: 0.15763\tvalid_0's binary_logloss: 0.15763\n",
            "[160]\tvalid_0's binary_logloss: 0.156037\tvalid_0's binary_logloss: 0.156037\n",
            "[161]\tvalid_0's binary_logloss: 0.157414\tvalid_0's binary_logloss: 0.157414\n",
            "[162]\tvalid_0's binary_logloss: 0.158634\tvalid_0's binary_logloss: 0.158634\n",
            "[163]\tvalid_0's binary_logloss: 0.157964\tvalid_0's binary_logloss: 0.157964\n",
            "[164]\tvalid_0's binary_logloss: 0.159882\tvalid_0's binary_logloss: 0.159882\n",
            "Early stopping, best iteration is:\n",
            "[64]\tvalid_0's binary_logloss: 0.100705\tvalid_0's binary_logloss: 0.100705\n"
          ]
        },
        {
          "output_type": "execute_result",
          "data": {
            "text/plain": [
              "LGBMClassifier(n_estimators=400)"
            ]
          },
          "metadata": {},
          "execution_count": 39
        }
      ]
    },
    {
      "cell_type": "code",
      "source": [
        "#예측\n",
        "preds = lgbm_wrapper.predict(X_test)\n",
        "preds_proba = lgbm_wrapper.predict_proba(X_test)[:, 1]\n",
        "print(preds[:10])\n",
        "print(preds_proba[:10])\n",
        "print(y_test[:10])"
      ],
      "metadata": {
        "colab": {
          "base_uri": "https://localhost:8080/"
        },
        "id": "17ytRsNx_5Zp",
        "outputId": "98397658-86c2-4d40-87b8-2690218c689d"
      },
      "execution_count": 40,
      "outputs": [
        {
          "output_type": "stream",
          "name": "stdout",
          "text": [
            "[1 0 0 1 1 0 0 0 0 1]\n",
            "[0.99442998 0.00111938 0.00199303 0.99835782 0.99924921 0.00137833\n",
            " 0.00111842 0.11109571 0.12759447 0.99825783]\n",
            "[1 0 0 1 1 0 0 0 1 1]\n"
          ]
        }
      ]
    },
    {
      "cell_type": "code",
      "source": [
        "#평가 지표 확인\n",
        "print('오차 행렬 :', confusion_matrix(y_test, preds))\n",
        "print('정확도 :', accuracy_score(y_test, preds))\n",
        "print('정밀도 :', precision_score(y_test, preds))\n",
        "print('재현율 :', recall_score(y_test, preds))\n",
        "print('f1_score :', f1_score(y_test, preds))\n",
        "print('roc_auc_score :', roc_auc_score(y_test, preds))"
      ],
      "metadata": {
        "colab": {
          "base_uri": "https://localhost:8080/"
        },
        "id": "viLIGgohApm5",
        "outputId": "1e35cb2f-8eb1-48fb-82ef-7b5fa2c826c6"
      },
      "execution_count": 41,
      "outputs": [
        {
          "output_type": "stream",
          "name": "stdout",
          "text": [
            "오차 행렬 : [[41  2]\n",
            " [ 2 69]]\n",
            "정확도 : 0.9649122807017544\n",
            "정밀도 : 0.971830985915493\n",
            "재현율 : 0.971830985915493\n",
            "f1_score : 0.971830985915493\n",
            "roc_auc_score : 0.9626596790042582\n"
          ]
        }
      ]
    },
    {
      "cell_type": "markdown",
      "source": [
        "## 스태킹"
      ],
      "metadata": {
        "id": "9Wg-roaSb8fX"
      }
    },
    {
      "cell_type": "code",
      "source": [
        "import numpy as np\n",
        "from sklearn.datasets import load_breast_cancer\n",
        "from sklearn.model_selection import train_test_split\n",
        "\n",
        "cancer_data = load_breast_cancer()\n",
        "\n",
        "X_data = cancer_data.data\n",
        "y_label = cancer_data.target\n",
        "\n",
        "#print(X_train.shape)\n",
        "#print(X_test.shape)\n",
        "#훈련 데이터와 테스트 데이터 분할\n",
        "X_train , X_test , y_train , y_test = train_test_split(X_data , y_label , test_size=0.2 , random_state=42)\n",
        "\n",
        "\n",
        "#모델 생성 \n",
        "from sklearn.linear_model import LogisticRegression\n",
        "\n",
        "from sklearn.neighbors import KNeighborsClassifier\n",
        "from sklearn.tree import DecisionTreeClassifier\n",
        "\n",
        "from sklearn.ensemble import RandomForestClassifier\n",
        "from sklearn.ensemble import AdaBoostClassifier\n",
        "\n",
        "#개별 모델을 생성\n",
        "knn_clf = KNeighborsClassifier(n_neighbors=5)\n",
        "dt_clf = DecisionTreeClassifier()\n",
        "rf_clf = RandomForestClassifier(n_estimators=100, random_state=42)\n",
        "ada_clf = AdaBoostClassifier(n_estimators=100)\n",
        "\n",
        "#Stacking 모델\n",
        "lr_final = LogisticRegression(C=10)\n",
        "\n",
        "#개별 모델 훈련\n",
        "knn_clf.fit(X_train, y_train)\n",
        "dt_clf.fit(X_train, y_train)\n",
        "rf_clf.fit(X_train, y_train)\n",
        "ada_clf.fit(X_train, y_train)\n",
        "\n",
        "#개별 모델의 정확도 확인\n",
        "from sklearn.metrics import accuracy_score\n",
        "\n",
        "#예측\n",
        "knn_pred = knn_clf.predict(X_test)\n",
        "dt_pred = dt_clf.predict(X_test)\n",
        "rf_pred = rf_clf.predict(X_test)\n",
        "ada_pred = ada_clf.predict(X_test)\n",
        "\n",
        "print('KNN 정확도 :', accuracy_score(y_test, knn_pred))\n",
        "print('DT 정확도 :', accuracy_score(y_test, dt_pred))\n",
        "print('RF 정확도 :', accuracy_score(y_test, rf_pred))\n",
        "print('ADA 정확도 :', accuracy_score(y_test, ada_pred))\n",
        "\n",
        "#스태킹 모델을 사용하기 위한 데이터 생성 \n",
        "pred=np.array([knn_pred, dt_pred, rf_pred, ada_pred]) #예측한 것을 모아옴\n",
        "print(pred.shape)\n",
        "#행과 열을 바꿔서\n",
        "pred = np.transpose(pred)\n",
        "print(pred.shape)\n",
        "\n",
        "#최종 모델로 훈련\n",
        "lr_final.fit(pred, y_test)\n",
        "final = lr_final.predict(pred)\n",
        "print(\"최종 모델 정확도 : \", accuracy_score(y_test, final))"
      ],
      "metadata": {
        "colab": {
          "base_uri": "https://localhost:8080/"
        },
        "id": "3nbzAJv_b9w2",
        "outputId": "577d2c7d-e8a0-4e7f-f22f-d856e98fb912"
      },
      "execution_count": 53,
      "outputs": [
        {
          "output_type": "stream",
          "name": "stdout",
          "text": [
            "KNN 정확도 : 0.956140350877193\n",
            "DT 정확도 : 0.9385964912280702\n",
            "RF 정확도 : 0.9649122807017544\n",
            "ADA 정확도 : 0.9736842105263158\n",
            "(4, 114)\n",
            "(114, 4)\n",
            "최종 모델 정확도 :  0.9824561403508771\n"
          ]
        }
      ]
    }
  ]
}